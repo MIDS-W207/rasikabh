{
  "nbformat": 4,
  "nbformat_minor": 0,
  "metadata": {
    "colab": {
      "provenance": [],
      "collapsed_sections": []
    },
    "kernelspec": {
      "name": "python3",
      "display_name": "Python 3"
    },
    "language_info": {
      "name": "python"
    }
  },
  "cells": [
    {
      "cell_type": "markdown",
      "metadata": {
        "id": "zWNGwyGqfhmM"
      },
      "source": [
        "# Week 11: LDA\n",
        "\n",
        "# Rasika Bhalerao\n",
        "\n",
        "# Agenda\n",
        "\n",
        "- LDA\n",
        " - Intuition / code\n",
        " - What to do with LDA"
      ]
    },
    {
      "cell_type": "code",
      "metadata": {
        "id": "Ii-cwS1MfSGc"
      },
      "source": [
        "import pandas as pd\n",
        "import numpy as np\n",
        "from sklearn.decomposition import LatentDirichletAllocation\n",
        "from sklearn.feature_extraction.text import CountVectorizer\n",
        "import matplotlib.pyplot as plt\n",
        "from sklearn.cluster import AgglomerativeClustering\n",
        "from scipy.spatial.distance import pdist\n",
        "from scipy.cluster.hierarchy import dendrogram, linkage\n",
        "from sklearn.decomposition import PCA\n",
        "from gensim.models import Word2Vec\n",
        "import re\n",
        "import zipfile\n",
        "import gensim.downloader as api\n",
        "from scipy.sparse import csr_matrix"
      ],
      "execution_count": 1,
      "outputs": []
    },
    {
      "cell_type": "markdown",
      "metadata": {
        "id": "-hK0p66njotK"
      },
      "source": [
        "Latent Dirichlet Allocation (LDA)\n",
        "\n",
        "- Finds distributions of latent topics in a set of documents\n",
        " - A \"topic\" is a probability distribution of words\n",
        " - Each document will get a distribution of topics\n",
        "- Topics are latent because they are not directly observed in the documents\n",
        " - (They are used to explain the words, which are directly observed)\n",
        "- Documents and words each follow Dirichlet distributions because they are distributions of distributions\n"
      ]
    },
    {
      "cell_type": "code",
      "metadata": {
        "colab": {
          "base_uri": "https://localhost:8080/",
          "height": 206
        },
        "id": "ZQRXaRMZj1vM",
        "outputId": "6ea19d58-dc0b-47ad-93a4-c5b13aa2195a"
      },
      "source": [
        "df = pd.DataFrame({\n",
        "    'document': [\n",
        "        'whiskers tail tail paw purr',\n",
        "        'meow whiskers whiskers',\n",
        "        'meow meow paw purr',\n",
        "        'paw bark woof bark',\n",
        "        'paw paw bark bark'\n",
        "    ]\n",
        "})\n",
        "\n",
        "df.head()"
      ],
      "execution_count": 2,
      "outputs": [
        {
          "output_type": "execute_result",
          "data": {
            "text/plain": [
              "                      document\n",
              "0  whiskers tail tail paw purr\n",
              "1       meow whiskers whiskers\n",
              "2           meow meow paw purr\n",
              "3           paw bark woof bark\n",
              "4            paw paw bark bark"
            ],
            "text/html": [
              "\n",
              "  <div id=\"df-3a3ff154-5bb2-422b-97e7-8bbc4fec2789\">\n",
              "    <div class=\"colab-df-container\">\n",
              "      <div>\n",
              "<style scoped>\n",
              "    .dataframe tbody tr th:only-of-type {\n",
              "        vertical-align: middle;\n",
              "    }\n",
              "\n",
              "    .dataframe tbody tr th {\n",
              "        vertical-align: top;\n",
              "    }\n",
              "\n",
              "    .dataframe thead th {\n",
              "        text-align: right;\n",
              "    }\n",
              "</style>\n",
              "<table border=\"1\" class=\"dataframe\">\n",
              "  <thead>\n",
              "    <tr style=\"text-align: right;\">\n",
              "      <th></th>\n",
              "      <th>document</th>\n",
              "    </tr>\n",
              "  </thead>\n",
              "  <tbody>\n",
              "    <tr>\n",
              "      <th>0</th>\n",
              "      <td>whiskers tail tail paw purr</td>\n",
              "    </tr>\n",
              "    <tr>\n",
              "      <th>1</th>\n",
              "      <td>meow whiskers whiskers</td>\n",
              "    </tr>\n",
              "    <tr>\n",
              "      <th>2</th>\n",
              "      <td>meow meow paw purr</td>\n",
              "    </tr>\n",
              "    <tr>\n",
              "      <th>3</th>\n",
              "      <td>paw bark woof bark</td>\n",
              "    </tr>\n",
              "    <tr>\n",
              "      <th>4</th>\n",
              "      <td>paw paw bark bark</td>\n",
              "    </tr>\n",
              "  </tbody>\n",
              "</table>\n",
              "</div>\n",
              "      <button class=\"colab-df-convert\" onclick=\"convertToInteractive('df-3a3ff154-5bb2-422b-97e7-8bbc4fec2789')\"\n",
              "              title=\"Convert this dataframe to an interactive table.\"\n",
              "              style=\"display:none;\">\n",
              "        \n",
              "  <svg xmlns=\"http://www.w3.org/2000/svg\" height=\"24px\"viewBox=\"0 0 24 24\"\n",
              "       width=\"24px\">\n",
              "    <path d=\"M0 0h24v24H0V0z\" fill=\"none\"/>\n",
              "    <path d=\"M18.56 5.44l.94 2.06.94-2.06 2.06-.94-2.06-.94-.94-2.06-.94 2.06-2.06.94zm-11 1L8.5 8.5l.94-2.06 2.06-.94-2.06-.94L8.5 2.5l-.94 2.06-2.06.94zm10 10l.94 2.06.94-2.06 2.06-.94-2.06-.94-.94-2.06-.94 2.06-2.06.94z\"/><path d=\"M17.41 7.96l-1.37-1.37c-.4-.4-.92-.59-1.43-.59-.52 0-1.04.2-1.43.59L10.3 9.45l-7.72 7.72c-.78.78-.78 2.05 0 2.83L4 21.41c.39.39.9.59 1.41.59.51 0 1.02-.2 1.41-.59l7.78-7.78 2.81-2.81c.8-.78.8-2.07 0-2.86zM5.41 20L4 18.59l7.72-7.72 1.47 1.35L5.41 20z\"/>\n",
              "  </svg>\n",
              "      </button>\n",
              "      \n",
              "  <style>\n",
              "    .colab-df-container {\n",
              "      display:flex;\n",
              "      flex-wrap:wrap;\n",
              "      gap: 12px;\n",
              "    }\n",
              "\n",
              "    .colab-df-convert {\n",
              "      background-color: #E8F0FE;\n",
              "      border: none;\n",
              "      border-radius: 50%;\n",
              "      cursor: pointer;\n",
              "      display: none;\n",
              "      fill: #1967D2;\n",
              "      height: 32px;\n",
              "      padding: 0 0 0 0;\n",
              "      width: 32px;\n",
              "    }\n",
              "\n",
              "    .colab-df-convert:hover {\n",
              "      background-color: #E2EBFA;\n",
              "      box-shadow: 0px 1px 2px rgba(60, 64, 67, 0.3), 0px 1px 3px 1px rgba(60, 64, 67, 0.15);\n",
              "      fill: #174EA6;\n",
              "    }\n",
              "\n",
              "    [theme=dark] .colab-df-convert {\n",
              "      background-color: #3B4455;\n",
              "      fill: #D2E3FC;\n",
              "    }\n",
              "\n",
              "    [theme=dark] .colab-df-convert:hover {\n",
              "      background-color: #434B5C;\n",
              "      box-shadow: 0px 1px 3px 1px rgba(0, 0, 0, 0.15);\n",
              "      filter: drop-shadow(0px 1px 2px rgba(0, 0, 0, 0.3));\n",
              "      fill: #FFFFFF;\n",
              "    }\n",
              "  </style>\n",
              "\n",
              "      <script>\n",
              "        const buttonEl =\n",
              "          document.querySelector('#df-3a3ff154-5bb2-422b-97e7-8bbc4fec2789 button.colab-df-convert');\n",
              "        buttonEl.style.display =\n",
              "          google.colab.kernel.accessAllowed ? 'block' : 'none';\n",
              "\n",
              "        async function convertToInteractive(key) {\n",
              "          const element = document.querySelector('#df-3a3ff154-5bb2-422b-97e7-8bbc4fec2789');\n",
              "          const dataTable =\n",
              "            await google.colab.kernel.invokeFunction('convertToInteractive',\n",
              "                                                     [key], {});\n",
              "          if (!dataTable) return;\n",
              "\n",
              "          const docLinkHtml = 'Like what you see? Visit the ' +\n",
              "            '<a target=\"_blank\" href=https://colab.research.google.com/notebooks/data_table.ipynb>data table notebook</a>'\n",
              "            + ' to learn more about interactive tables.';\n",
              "          element.innerHTML = '';\n",
              "          dataTable['output_type'] = 'display_data';\n",
              "          await google.colab.output.renderOutput(dataTable, element);\n",
              "          const docLink = document.createElement('div');\n",
              "          docLink.innerHTML = docLinkHtml;\n",
              "          element.appendChild(docLink);\n",
              "        }\n",
              "      </script>\n",
              "    </div>\n",
              "  </div>\n",
              "  "
            ]
          },
          "metadata": {},
          "execution_count": 2
        }
      ]
    },
    {
      "cell_type": "code",
      "metadata": {
        "colab": {
          "base_uri": "https://localhost:8080/"
        },
        "id": "njjvaCeYkPwi",
        "outputId": "01812669-53d8-4153-8598-19bb4dd072bf"
      },
      "source": [
        "topics = 2\n",
        "vec = CountVectorizer()\n",
        "X = vec.fit_transform(df['document'])\n",
        "lda = LatentDirichletAllocation(n_components=topics)\n",
        "doc_topics = lda.fit_transform(X)\n",
        "doc_topics"
      ],
      "execution_count": 3,
      "outputs": [
        {
          "output_type": "execute_result",
          "data": {
            "text/plain": [
              "array([[0.35494042, 0.64505958],\n",
              "       [0.1268958 , 0.8731042 ],\n",
              "       [0.14764829, 0.85235171],\n",
              "       [0.89591346, 0.10408654],\n",
              "       [0.8945496 , 0.1054504 ]])"
            ]
          },
          "metadata": {},
          "execution_count": 3
        }
      ]
    },
    {
      "cell_type": "code",
      "metadata": {
        "colab": {
          "base_uri": "https://localhost:8080/",
          "height": 265
        },
        "id": "1720OCSBla-S",
        "outputId": "d8af44c7-a142-4c05-d5af-6f0de358daf5"
      },
      "source": [
        "for topic in range(topics):\n",
        "  plt.bar(\n",
        "      [i + topic*0.8/topics for i in range(len(doc_topics))],\n",
        "      [i[topic] for i in doc_topics],\n",
        "      width=0.8/topics,\n",
        "      label=f'Topic {topic}'\n",
        "  )\n",
        "plt.xticks(range(len(doc_topics)), [f'doc {i}' for i in range(len(doc_topics))])\n",
        "plt.legend()\n",
        "plt.show()"
      ],
      "execution_count": 4,
      "outputs": [
        {
          "output_type": "display_data",
          "data": {
            "text/plain": [
              "<Figure size 432x288 with 1 Axes>"
            ],
            "image/png": "[encoded data removed]"
          },
          "metadata": {
            "needs_background": "light"
          }
        }
      ]
    },
    {
      "cell_type": "code",
      "metadata": {
        "colab": {
          "base_uri": "https://localhost:8080/"
        },
        "id": "q6S5Ffhcocty",
        "outputId": "d218919b-1516-44c0-e40e-64557e0397da"
      },
      "source": [
        "topic_words = lda.components_ / lda.components_.sum(axis=1)[:, np.newaxis]\n",
        "topic_words"
      ],
      "execution_count": 5,
      "outputs": [
        {
          "output_type": "execute_result",
          "data": {
            "text/plain": [
              "array([[0.32389311, 0.03675086, 0.31756928, 0.04209436, 0.1326246 ,\n",
              "        0.03938289, 0.10768491],\n",
              "       [0.03857177, 0.26589439, 0.12144097, 0.18406139, 0.08837149,\n",
              "        0.26311235, 0.03854762]])"
            ]
          },
          "metadata": {},
          "execution_count": 5
        }
      ]
    },
    {
      "cell_type": "code",
      "metadata": {
        "colab": {
          "base_uri": "https://localhost:8080/",
          "height": 430
        },
        "id": "c6w1XxEUrbiY",
        "outputId": "601d1ce7-c03e-40fb-9514-d30c30d1b158"
      },
      "source": [
        "words = vec.get_feature_names()\n",
        "plt.figure(figsize=(8, 6))\n",
        "for topic in range(topics):\n",
        "  plt.bar(\n",
        "      [i + topic*0.8/topics for i in range(len(words))],\n",
        "      topic_words[topic],\n",
        "      width = 0.8/topics,\n",
        "      label=f'Topic {topic}'\n",
        "  )\n",
        "plt.xticks(range(len(words)), words)\n",
        "plt.legend()\n",
        "plt.show()"
      ],
      "execution_count": 6,
      "outputs": [
        {
          "output_type": "stream",
          "name": "stderr",
          "text": [
            "/usr/local/lib/python3.7/dist-packages/sklearn/utils/deprecation.py:87: FutureWarning: Function get_feature_names is deprecated; get_feature_names is deprecated in 1.0 and will be removed in 1.2. Please use get_feature_names_out instead.\n",
            "  warnings.warn(msg, category=FutureWarning)\n"
          ]
        },
        {
          "output_type": "display_data",
          "data": {
            "text/plain": [
              "<Figure size 576x432 with 1 Axes>"
            ],
            "image/png": "[encoded data removed]"
          },
          "metadata": {
            "needs_background": "light"
          }
        }
      ]
    },
    {
      "cell_type": "markdown",
      "metadata": {
        "id": "0BpAOaplwZE4"
      },
      "source": [
        "LDA Algorithm\n",
        "\n",
        "* Pick k - the number of topics\n",
        "* Compile a vocabulary from the documents\n",
        "* Randomly assign each word in the vocabulary to a topic\n",
        "* Until all document distributions converge:\n",
        " - For each document d:\n",
        "   1. For each word w in d, for each topic t:\n",
        "     - Calculate P(t | d): percent of other words (not w) in d that are in t\n",
        "     - Calculate P(w | t): percent of other documents (not d) that have word w\n",
        "   2. Repeat step 1 until document d’s distribution converges\n",
        " - Update the probability of word w belonging to topic t: P(w | t) = P(t |d) * P(w | t)\n"
      ]
    },
    {
      "cell_type": "markdown",
      "metadata": {
        "id": "RbTL0a58ySEg"
      },
      "source": [
        "### What to do with LDA?"
      ]
    },
    {
      "cell_type": "code",
      "metadata": {
        "colab": {
          "base_uri": "https://localhost:8080/",
          "height": 206
        },
        "id": "JGrwnmjJtdWm",
        "outputId": "a7a07caf-f5f7-44df-8339-0097d3b292c7"
      },
      "source": [
        "# Analyze the major \"themes\" (topics) in the corpus\n",
        "# Analyze the distribution of topics for each document\n",
        "# Analyze important words for each topic\n",
        "\n",
        "df = pd.DataFrame({\n",
        "    'document': [\n",
        "        'Your cat purrs and has fur.',\n",
        "        'My cat meows and purrs.',\n",
        "        'Your cat dislikes oranges.',\n",
        "        'Oranges are citrus fruits.',\n",
        "        'Oranges are fruits with Vitamin C.'\n",
        "    ]\n",
        "})\n",
        "\n",
        "df.head()"
      ],
      "execution_count": 7,
      "outputs": [
        {
          "output_type": "execute_result",
          "data": {
            "text/plain": [
              "                             document\n",
              "0         Your cat purrs and has fur.\n",
              "1             My cat meows and purrs.\n",
              "2          Your cat dislikes oranges.\n",
              "3          Oranges are citrus fruits.\n",
              "4  Oranges are fruits with Vitamin C."
            ],
            "text/html": [
              "\n",
              "  <div id=\"df-9137d265-23ce-48a6-bb35-bf5cd6a6b9b5\">\n",
              "    <div class=\"colab-df-container\">\n",
              "      <div>\n",
              "<style scoped>\n",
              "    .dataframe tbody tr th:only-of-type {\n",
              "        vertical-align: middle;\n",
              "    }\n",
              "\n",
              "    .dataframe tbody tr th {\n",
              "        vertical-align: top;\n",
              "    }\n",
              "\n",
              "    .dataframe thead th {\n",
              "        text-align: right;\n",
              "    }\n",
              "</style>\n",
              "<table border=\"1\" class=\"dataframe\">\n",
              "  <thead>\n",
              "    <tr style=\"text-align: right;\">\n",
              "      <th></th>\n",
              "      <th>document</th>\n",
              "    </tr>\n",
              "  </thead>\n",
              "  <tbody>\n",
              "    <tr>\n",
              "      <th>0</th>\n",
              "      <td>Your cat purrs and has fur.</td>\n",
              "    </tr>\n",
              "    <tr>\n",
              "      <th>1</th>\n",
              "      <td>My cat meows and purrs.</td>\n",
              "    </tr>\n",
              "    <tr>\n",
              "      <th>2</th>\n",
              "      <td>Your cat dislikes oranges.</td>\n",
              "    </tr>\n",
              "    <tr>\n",
              "      <th>3</th>\n",
              "      <td>Oranges are citrus fruits.</td>\n",
              "    </tr>\n",
              "    <tr>\n",
              "      <th>4</th>\n",
              "      <td>Oranges are fruits with Vitamin C.</td>\n",
              "    </tr>\n",
              "  </tbody>\n",
              "</table>\n",
              "</div>\n",
              "      <button class=\"colab-df-convert\" onclick=\"convertToInteractive('df-9137d265-23ce-48a6-bb35-bf5cd6a6b9b5')\"\n",
              "              title=\"Convert this dataframe to an interactive table.\"\n",
              "              style=\"display:none;\">\n",
              "        \n",
              "  <svg xmlns=\"http://www.w3.org/2000/svg\" height=\"24px\"viewBox=\"0 0 24 24\"\n",
              "       width=\"24px\">\n",
              "    <path d=\"M0 0h24v24H0V0z\" fill=\"none\"/>\n",
              "    <path d=\"M18.56 5.44l.94 2.06.94-2.06 2.06-.94-2.06-.94-.94-2.06-.94 2.06-2.06.94zm-11 1L8.5 8.5l.94-2.06 2.06-.94-2.06-.94L8.5 2.5l-.94 2.06-2.06.94zm10 10l.94 2.06.94-2.06 2.06-.94-2.06-.94-.94-2.06-.94 2.06-2.06.94z\"/><path d=\"M17.41 7.96l-1.37-1.37c-.4-.4-.92-.59-1.43-.59-.52 0-1.04.2-1.43.59L10.3 9.45l-7.72 7.72c-.78.78-.78 2.05 0 2.83L4 21.41c.39.39.9.59 1.41.59.51 0 1.02-.2 1.41-.59l7.78-7.78 2.81-2.81c.8-.78.8-2.07 0-2.86zM5.41 20L4 18.59l7.72-7.72 1.47 1.35L5.41 20z\"/>\n",
              "  </svg>\n",
              "      </button>\n",
              "      \n",
              "  <style>\n",
              "    .colab-df-container {\n",
              "      display:flex;\n",
              "      flex-wrap:wrap;\n",
              "      gap: 12px;\n",
              "    }\n",
              "\n",
              "    .colab-df-convert {\n",
              "      background-color: #E8F0FE;\n",
              "      border: none;\n",
              "      border-radius: 50%;\n",
              "      cursor: pointer;\n",
              "      display: none;\n",
              "      fill: #1967D2;\n",
              "      height: 32px;\n",
              "      padding: 0 0 0 0;\n",
              "      width: 32px;\n",
              "    }\n",
              "\n",
              "    .colab-df-convert:hover {\n",
              "      background-color: #E2EBFA;\n",
              "      box-shadow: 0px 1px 2px rgba(60, 64, 67, 0.3), 0px 1px 3px 1px rgba(60, 64, 67, 0.15);\n",
              "      fill: #174EA6;\n",
              "    }\n",
              "\n",
              "    [theme=dark] .colab-df-convert {\n",
              "      background-color: #3B4455;\n",
              "      fill: #D2E3FC;\n",
              "    }\n",
              "\n",
              "    [theme=dark] .colab-df-convert:hover {\n",
              "      background-color: #434B5C;\n",
              "      box-shadow: 0px 1px 3px 1px rgba(0, 0, 0, 0.15);\n",
              "      filter: drop-shadow(0px 1px 2px rgba(0, 0, 0, 0.3));\n",
              "      fill: #FFFFFF;\n",
              "    }\n",
              "  </style>\n",
              "\n",
              "      <script>\n",
              "        const buttonEl =\n",
              "          document.querySelector('#df-9137d265-23ce-48a6-bb35-bf5cd6a6b9b5 button.colab-df-convert');\n",
              "        buttonEl.style.display =\n",
              "          google.colab.kernel.accessAllowed ? 'block' : 'none';\n",
              "\n",
              "        async function convertToInteractive(key) {\n",
              "          const element = document.querySelector('#df-9137d265-23ce-48a6-bb35-bf5cd6a6b9b5');\n",
              "          const dataTable =\n",
              "            await google.colab.kernel.invokeFunction('convertToInteractive',\n",
              "                                                     [key], {});\n",
              "          if (!dataTable) return;\n",
              "\n",
              "          const docLinkHtml = 'Like what you see? Visit the ' +\n",
              "            '<a target=\"_blank\" href=https://colab.research.google.com/notebooks/data_table.ipynb>data table notebook</a>'\n",
              "            + ' to learn more about interactive tables.';\n",
              "          element.innerHTML = '';\n",
              "          dataTable['output_type'] = 'display_data';\n",
              "          await google.colab.output.renderOutput(dataTable, element);\n",
              "          const docLink = document.createElement('div');\n",
              "          docLink.innerHTML = docLinkHtml;\n",
              "          element.appendChild(docLink);\n",
              "        }\n",
              "      </script>\n",
              "    </div>\n",
              "  </div>\n",
              "  "
            ]
          },
          "metadata": {},
          "execution_count": 7
        }
      ]
    },
    {
      "cell_type": "code",
      "metadata": {
        "colab": {
          "base_uri": "https://localhost:8080/",
          "height": 517
        },
        "id": "ZvHpWsjozJq5",
        "outputId": "a56f98eb-3e9b-4cdb-c089-ff50151775d5"
      },
      "source": [
        "topics = 2\n",
        "vec = CountVectorizer()\n",
        "X = vec.fit_transform(df['document'])\n",
        "lda = LatentDirichletAllocation(n_components=topics)\n",
        "doc_topics = lda.fit_transform(X)\n",
        "topic_words = lda.components_ / lda.components_.sum(axis=1)[:, np.newaxis]\n",
        "words = vec.get_feature_names()\n",
        "plt.figure(figsize=(15, 3))\n",
        "for topic in range(topics):\n",
        "  plt.bar(\n",
        "      [i + topic*0.8/topics for i in range(len(words))],\n",
        "      topic_words[topic],\n",
        "      width = 0.8/topics,\n",
        "      label=f'Topic {topic}'\n",
        "  )\n",
        "plt.xticks(range(len(words)), words)\n",
        "plt.legend()\n",
        "plt.show()\n",
        "for topic in range(topics):\n",
        "  plt.bar(\n",
        "      [i + topic*0.8/topics for i in range(len(doc_topics))],\n",
        "      [i[topic] for i in doc_topics],\n",
        "      width=0.8/topics,\n",
        "      label=f'Topic {topic}'\n",
        "  )\n",
        "plt.xticks(range(len(doc_topics)), [f'doc {i}' for i in range(len(doc_topics))])\n",
        "plt.legend()\n",
        "plt.show()"
      ],
      "execution_count": 8,
      "outputs": [
        {
          "output_type": "stream",
          "name": "stderr",
          "text": [
            "/usr/local/lib/python3.7/dist-packages/sklearn/utils/deprecation.py:87: FutureWarning: Function get_feature_names is deprecated; get_feature_names is deprecated in 1.0 and will be removed in 1.2. Please use get_feature_names_out instead.\n",
            "  warnings.warn(msg, category=FutureWarning)\n"
          ]
        },
        {
          "output_type": "display_data",
          "data": {
            "text/plain": [
              "<Figure size 1080x216 with 1 Axes>"
            ],
            "image/png": "[encoded data removed]"
          },
          "metadata": {
            "needs_background": "light"
          }
        },
        {
          "output_type": "display_data",
          "data": {
            "text/plain": [
              "<Figure size 432x288 with 1 Axes>"
            ],
            "image/png": "[encoded data removed]"
          },
          "metadata": {
            "needs_background": "light"
          }
        }
      ]
    },
    {
      "cell_type": "code",
      "metadata": {
        "colab": {
          "base_uri": "https://localhost:8080/",
          "height": 530
        },
        "id": "AGlopzzMzX7y",
        "outputId": "f7a85eef-df2a-4db7-84ac-51bd03833c18"
      },
      "source": [
        "# Get the LDA vector for each document and use these vectors to cluster documents\n",
        "# Or use LDA vectors as the features for each document and use them for supervised methods\n",
        "\n",
        "n=2\n",
        "clustering = AgglomerativeClustering(n_clusters=n).fit_predict(doc_topics)\n",
        "colors = ['green', 'blue', 'turquoise', 'lightgreen', 'grey', 'lightblue', 'white', 'lightgrey']\n",
        "for i in range(n):\n",
        "  plt.scatter(\n",
        "      doc_topics[clustering == i, 0],\n",
        "      doc_topics[clustering == i, 1],\n",
        "      c=colors[i],\n",
        "      label=f'Cluster {i}')\n",
        "plt.xlabel('Topic 0')\n",
        "plt.ylabel('Topic 1')\n",
        "plt.legend()\n",
        "plt.grid()\n",
        "plt.show()\n",
        "\n",
        "clusters = linkage(\n",
        "    pdist(\n",
        "        pd.DataFrame(doc_topics)\n",
        "    ),\n",
        "    method='average'\n",
        ")\n",
        "row_dendr = dendrogram(clusters, labels=[f'doc {i}' for i in range(len(doc_topics))])\n",
        "\n",
        "# You can also use Bag of words vectors for supervised/unsupervised tasks,\n",
        "# and weight each word by how likely it is to be in a certain topic according to LDA"
      ],
      "execution_count": 9,
      "outputs": [
        {
          "output_type": "display_data",
          "data": {
            "text/plain": [
              "<Figure size 432x288 with 1 Axes>"
            ],
            "image/png": "[encoded data removed]"
          },
          "metadata": {
            "needs_background": "light"
          }
        },
        {
          "output_type": "display_data",
          "data": {
            "text/plain": [
              "<Figure size 432x288 with 1 Axes>"
            ],
            "image/png": "[encoded data removed]"
          },
          "metadata": {
            "needs_background": "light"
          }
        }
      ]
    },
    {
      "cell_type": "code",
      "metadata": {
        "id": "Fv9jHwqch-7f"
      },
      "source": [],
      "execution_count": null,
      "outputs": []
    }
  ]
}