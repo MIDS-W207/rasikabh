{
  "nbformat": 4,
  "nbformat_minor": 0,
  "metadata": {
    "colab": {
      "provenance": [],
      "collapsed_sections": []
    },
    "kernelspec": {
      "name": "python3",
      "display_name": "Python 3"
    },
    "language_info": {
      "name": "python"
    }
  },
  "cells": [
    {
      "cell_type": "markdown",
      "source": [
        "# Week 3\n",
        "# Rasika Bhalerao\n",
        "# Agenda\n",
        "\n",
        "- Fashion dataset\n",
        "- Using a Neural Net with [SKlearn](https://scikit-learn.org/stable/modules/generated/sklearn.neural_network.MLPClassifier.html)\n",
        "- Creating a Neural Net in preparation for [homework 6](https://github.com/MIDS-W207/coursework_2022/blob/main/Homework/06%20Neural%20Networks.ipynb)"
      ],
      "metadata": {
        "id": "yslp6Zm23mz1"
      }
    },
    {
      "cell_type": "code",
      "execution_count": 33,
      "metadata": {
        "id": "hhA-2GeAqtyP"
      },
      "outputs": [],
      "source": [
        "# Imports from homework\n",
        "\n",
        "import numpy as np\n",
        "from matplotlib import pyplot as plt\n",
        "import pandas as pd\n",
        "import seaborn as sns  # for nicer plots\n",
        "sns.set(style=\"darkgrid\")  # default style\n",
        "\n",
        "import tensorflow as tf\n",
        "from tensorflow import keras\n",
        "from keras import metrics\n",
        "tf.get_logger().setLevel('INFO')"
      ]
    },
    {
      "cell_type": "code",
      "source": [
        "# Fashion dataset from homework\n",
        "\n",
        "from keras.datasets import fashion_mnist\n",
        "\n",
        "# Load the Fashion MNIST dataset.\n",
        "(X_train_fashion, Y_train_fashion), (X_test_fashion, Y_test_fashion) = fashion_mnist.load_data()\n",
        "X_train_fashion = X_train_fashion / 255.\n",
        "X_test_fashion = X_test_fashion / 255.\n",
        "\n",
        "# Flatten Y_train and Y_test, so they become vectors of label values.\n",
        "Y_train_fashion = Y_train_fashion.flatten()\n",
        "Y_test_fashion = Y_test_fashion.flatten()\n",
        "\n",
        "label_names = ['t-shirt', 'trouser', 'pullover', 'dress', 'coat',\n",
        "               'sandal', 'shirt', 'sneaker', 'bag', 'ankle boot']\n",
        "\n",
        "# Apply random shufflying to training examples.\n",
        "np.random.seed(0)\n",
        "indices = np.arange(X_train_fashion.shape[0])\n",
        "shuffled_indices = np.random.permutation(indices)\n",
        "X_train_fashion = X_train_fashion[shuffled_indices]\n",
        "Y_train_fashion = Y_train_fashion[shuffled_indices]\n",
        "\n",
        "# Show the first training example.\n",
        "print('Label: %s' %label_names[Y_train_fashion[0]])\n",
        "plt.imshow(X_train_fashion[0], cmap='gray')\n",
        "plt.show()"
      ],
      "metadata": {
        "colab": {
          "base_uri": "https://localhost:8080/",
          "height": 286
        },
        "id": "JAw9WAjx3eCj",
        "outputId": "0e72aa59-3dd1-4c82-c57a-4a287764adaf"
      },
      "execution_count": 34,
      "outputs": [
        {
          "output_type": "stream",
          "name": "stdout",
          "text": [
            "Label: t-shirt\n"
          ]
        },
        {
          "output_type": "display_data",
          "data": {
            "text/plain": [
              "<Figure size 432x288 with 1 Axes>"
            ],
            "image/png": "[encoded data removed]"
          },
          "metadata": {}
        }
      ]
    },
    {
      "cell_type": "code",
      "source": [
        "# Understanding the dataset shape\n",
        "\n",
        "print(f\"X train total shape {X_train_fashion.shape}\")\n",
        "print(f\"Y train total shape {Y_train_fashion.shape}\")\n",
        "print(f\"X test total shape {X_test_fashion.shape}\")\n",
        "print(f\"Y test total shape {Y_test_fashion.shape}\")\n",
        "print()\n",
        "print(f\"X train item shape {X_train_fashion[0].shape}\")\n",
        "print(f\"X test item shape {X_test_fashion[0].shape}\")\n",
        "print()\n",
        "print(f\"3 examples of Y: {Y_train_fashion[0]} {Y_train_fashion[10]} {Y_train_fashion[100]}\")"
      ],
      "metadata": {
        "colab": {
          "base_uri": "https://localhost:8080/"
        },
        "id": "rUSTa8Rq3l14",
        "outputId": "815395bf-526d-4de1-c079-85f4364f6ae1"
      },
      "execution_count": 35,
      "outputs": [
        {
          "output_type": "stream",
          "name": "stdout",
          "text": [
            "X train total shape (60000, 28, 28)\n",
            "Y train total shape (60000,)\n",
            "X test total shape (10000, 28, 28)\n",
            "Y test total shape (10000,)\n",
            "\n",
            "X train item shape (28, 28)\n",
            "X test item shape (28, 28)\n",
            "\n",
            "3 examples of Y: 0 5 1\n"
          ]
        }
      ]
    },
    {
      "cell_type": "code",
      "source": [
        "# Make it so each row (item) is a vector of features rather than a square of features\n",
        "X_train_reshaped = np.reshape(X_train_fashion, (60000, 28*28))\n",
        "X_test_reshaped = np.reshape(X_test_fashion, (10000, 28*28))\n",
        "\n",
        "print(f\"X train reshaped shape {X_train_reshaped.shape}\")\n",
        "print(f\"X test reshaped shape {X_test_reshaped.shape}\")"
      ],
      "metadata": {
        "colab": {
          "base_uri": "https://localhost:8080/"
        },
        "id": "4esOFw9S8ZPF",
        "outputId": "9cdef3c5-d865-4b95-ab95-460750c657d2"
      },
      "execution_count": 36,
      "outputs": [
        {
          "output_type": "stream",
          "name": "stdout",
          "text": [
            "X train reshaped shape (60000, 784)\n",
            "X test reshaped shape (10000, 784)\n"
          ]
        }
      ]
    },
    {
      "cell_type": "markdown",
      "source": [
        "# Using a neural net"
      ],
      "metadata": {
        "id": "mfGU5-TE7OE1"
      }
    },
    {
      "cell_type": "code",
      "source": [
        "from sklearn.neural_network import MLPClassifier\n",
        "\n",
        "model = MLPClassifier(max_iter=3)\n",
        "model.fit(X_train_reshaped, Y_train_fashion)\n",
        "predicted_labels = model.predict(X_test_reshaped)\n",
        "print(f'Predicted | Expected')\n",
        "for i in range(5):\n",
        "  print(f'{label_names[predicted_labels[i]]} | {label_names[Y_test_fashion[i]]}')"
      ],
      "metadata": {
        "colab": {
          "base_uri": "https://localhost:8080/"
        },
        "id": "-sJVIfeP40mw",
        "outputId": "61f4624c-967a-4725-f936-44cc64688ee5"
      },
      "execution_count": 54,
      "outputs": [
        {
          "output_type": "stream",
          "name": "stdout",
          "text": [
            "Predicted | Expected\n",
            "ankle boot | ankle boot\n",
            "pullover | pullover\n",
            "trouser | trouser\n",
            "trouser | trouser\n",
            "shirt | shirt\n"
          ]
        },
        {
          "output_type": "stream",
          "name": "stderr",
          "text": [
            "/usr/local/lib/python3.7/dist-packages/sklearn/neural_network/_multilayer_perceptron.py:696: ConvergenceWarning: Stochastic Optimizer: Maximum iterations (3) reached and the optimization hasn't converged yet.\n",
            "  ConvergenceWarning,\n"
          ]
        }
      ]
    },
    {
      "cell_type": "markdown",
      "source": [
        "# Creating a neural network with one hidden layer"
      ],
      "metadata": {
        "id": "fNXi5LSZ_O0N"
      }
    },
    {
      "cell_type": "code",
      "source": [
        "import keras\n",
        "from keras.models import Sequential\n",
        "from keras.layers import Dense\n",
        "\n",
        "# Define the model\n",
        "# (notice this cell uses no data)\n",
        "\n",
        "# Input size is 28*28 (number of features)\n",
        "# Output size is 10 (number of classes)\n",
        "\n",
        "our_model = Sequential()\n",
        "our_model.add(Dense(200, input_shape=(28*28,), activation='relu')) # hidden layer size is 200\n",
        "our_model.add(Dense(10, activation='softmax')) # input_dim is inferred 200\n",
        "opt = tf.keras.optimizers.Adam(learning_rate=0.01)\n",
        "our_model.compile(loss='sparse_categorical_crossentropy', optimizer=opt) # \"sparse_\" is needed for integer classes"
      ],
      "metadata": {
        "id": "v2WnV-3x6W-8"
      },
      "execution_count": 49,
      "outputs": []
    },
    {
      "cell_type": "code",
      "source": [
        "tf.keras.utils.plot_model(\n",
        "    our_model,\n",
        "    show_shapes=True,\n",
        "    show_layer_names=False,\n",
        "    show_layer_activations=True,\n",
        ")"
      ],
      "metadata": {
        "colab": {
          "base_uri": "https://localhost:8080/",
          "height": 312
        },
        "id": "o4awkYIVEdXG",
        "outputId": "daea4167-191d-4874-856d-9cd6ba8e766f"
      },
      "execution_count": 50,
      "outputs": [
        {
          "output_type": "execute_result",
          "data": {
            "image/png": "[encoded data removed]",
            "text/plain": [
              "<IPython.core.display.Image object>"
            ]
          },
          "metadata": {},
          "execution_count": 50
        }
      ]
    },
    {
      "cell_type": "code",
      "source": [
        "# Using the neural network we created\n",
        "# (now this cell uses data)\n",
        "\n",
        "our_model.fit(X_train_reshaped, Y_train_fashion, epochs=2)\n",
        "our_predicted_labels = our_model.predict(X_test_reshaped)\n",
        "print(f'Predicted | Expected')\n",
        "for i in range(5):\n",
        "  print(f'{label_names[np.argmax(our_predicted_labels[i])]} | {label_names[Y_test_fashion[i]]}') # note the argmax"
      ],
      "metadata": {
        "colab": {
          "base_uri": "https://localhost:8080/"
        },
        "id": "jjG6rJvvA_9D",
        "outputId": "21b5f5b4-63ea-4fd8-9c6f-ea89d7235044"
      },
      "execution_count": 55,
      "outputs": [
        {
          "output_type": "stream",
          "name": "stdout",
          "text": [
            "Epoch 1/2\n",
            "1875/1875 [==============================] - 5s 3ms/step - loss: 0.3834\n",
            "Epoch 2/2\n",
            "1875/1875 [==============================] - 5s 3ms/step - loss: 0.3770\n",
            "Predicted | Expected\n",
            "ankle boot | ankle boot\n",
            "pullover | pullover\n",
            "trouser | trouser\n",
            "trouser | trouser\n",
            "shirt | shirt\n"
          ]
        }
      ]
    },
    {
      "cell_type": "code",
      "source": [],
      "metadata": {
        "id": "u8LDdYHGC6Xp"
      },
      "execution_count": null,
      "outputs": []
    }
  ]
}
