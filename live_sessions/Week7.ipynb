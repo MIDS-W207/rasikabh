{
  "nbformat": 4,
  "nbformat_minor": 0,
  "metadata": {
    "colab": {
      "provenance": [],
      "collapsed_sections": []
    },
    "kernelspec": {
      "name": "python3",
      "display_name": "Python 3"
    },
    "language_info": {
      "name": "python"
    }
  },
  "cells": [
    {
      "cell_type": "markdown",
      "source": [
        "# Week 7\n",
        "### Rasika Bhalerao\n",
        "# Agenda\n",
        "- Tweets dataset\n",
        "- KNN example\n",
        "- Decision trees example"
      ],
      "metadata": {
        "id": "SpN7lYmu87_e"
      }
    },
    {
      "cell_type": "code",
      "execution_count": 28,
      "metadata": {
        "id": "nnAT3FqK80gU"
      },
      "outputs": [],
      "source": [
        "import numpy as np\n",
        "import pandas as pd\n",
        "import matplotlib.pyplot as plt\n",
        "from sklearn.model_selection import train_test_split\n",
        "from sklearn.neighbors import KNeighborsClassifier\n",
        "from sklearn import preprocessing\n",
        "import seaborn as sns\n",
        "from sklearn.tree import DecisionTreeClassifier\n",
        "from sklearn.feature_extraction.text import CountVectorizer\n",
        "from sklearn import tree\n",
        "from IPython.core.display import Image, display\n",
        "import pydot\n",
        "from pydotplus import graph_from_dot_data\n",
        "from sklearn.tree import export_graphviz\n",
        "\n",
        "# This tells matplolib not to try opening a new window for each plot\n",
        "%matplotlib inline"
      ]
    },
    {
      "cell_type": "code",
      "source": [
        "# Example dataset: tweets from top 20 most followed Twitter users\n",
        "# (https://dataverse.harvard.edu/dataset.xhtml?id=3047332)\n",
        "\n",
        "df = pd.read_csv('tweets.csv')\n",
        "df.head()"
      ],
      "metadata": {
        "colab": {
          "base_uri": "https://localhost:8080/",
          "height": 354
        },
        "id": "yuunZWat86SO",
        "outputId": "0fbd7441-71f9-4de8-9e51-6b58a64a6361"
      },
      "execution_count": 5,
      "outputs": [
        {
          "output_type": "execute_result",
          "data": {
            "text/plain": [
              "      author                                            content country  \\\n",
              "0  katyperry  Is history repeating itself...?#DONTNORMALIZEH...     NaN   \n",
              "1  katyperry  @barackobama Thank you for your incredible gra...     NaN   \n",
              "2  katyperry                Life goals. https://t.co/XIn1qKMKQl     NaN   \n",
              "3  katyperry            Me right now 🙏🏻 https://t.co/gW55C1wrwd     NaN   \n",
              "4  katyperry  SISTERS ARE DOIN' IT FOR THEMSELVES! 🙌🏻💪🏻❤️ ht...     NaN   \n",
              "\n",
              "          date_time            id language  latitude  longitude  \\\n",
              "0  12/01/2017 19:52  8.196330e+17       en       NaN        NaN   \n",
              "1  11/01/2017 08:38  8.191010e+17       en       NaN        NaN   \n",
              "2  11/01/2017 02:52  8.190140e+17       en       NaN        NaN   \n",
              "3  11/01/2017 02:44  8.190120e+17       en       NaN        NaN   \n",
              "4  10/01/2017 05:22  8.186890e+17       en       NaN        NaN   \n",
              "\n",
              "   number_of_likes  number_of_shares  \n",
              "0             7900              3472  \n",
              "1             3689              1380  \n",
              "2            10341              2387  \n",
              "3            10774              2458  \n",
              "4            17620              4655  "
            ],
            "text/html": [
              "\n",
              "  <div id=\"df-de6074e1-a4aa-4dc2-8ca5-d1a7da790c10\">\n",
              "    <div class=\"colab-df-container\">\n",
              "      <div>\n",
              "<style scoped>\n",
              "    .dataframe tbody tr th:only-of-type {\n",
              "        vertical-align: middle;\n",
              "    }\n",
              "\n",
              "    .dataframe tbody tr th {\n",
              "        vertical-align: top;\n",
              "    }\n",
              "\n",
              "    .dataframe thead th {\n",
              "        text-align: right;\n",
              "    }\n",
              "</style>\n",
              "<table border=\"1\" class=\"dataframe\">\n",
              "  <thead>\n",
              "    <tr style=\"text-align: right;\">\n",
              "      <th></th>\n",
              "      <th>author</th>\n",
              "      <th>content</th>\n",
              "      <th>country</th>\n",
              "      <th>date_time</th>\n",
              "      <th>id</th>\n",
              "      <th>language</th>\n",
              "      <th>latitude</th>\n",
              "      <th>longitude</th>\n",
              "      <th>number_of_likes</th>\n",
              "      <th>number_of_shares</th>\n",
              "    </tr>\n",
              "  </thead>\n",
              "  <tbody>\n",
              "    <tr>\n",
              "      <th>0</th>\n",
              "      <td>katyperry</td>\n",
              "      <td>Is history repeating itself...?#DONTNORMALIZEH...</td>\n",
              "      <td>NaN</td>\n",
              "      <td>12/01/2017 19:52</td>\n",
              "      <td>8.196330e+17</td>\n",
              "      <td>en</td>\n",
              "      <td>NaN</td>\n",
              "      <td>NaN</td>\n",
              "      <td>7900</td>\n",
              "      <td>3472</td>\n",
              "    </tr>\n",
              "    <tr>\n",
              "      <th>1</th>\n",
              "      <td>katyperry</td>\n",
              "      <td>@barackobama Thank you for your incredible gra...</td>\n",
              "      <td>NaN</td>\n",
              "      <td>11/01/2017 08:38</td>\n",
              "      <td>8.191010e+17</td>\n",
              "      <td>en</td>\n",
              "      <td>NaN</td>\n",
              "      <td>NaN</td>\n",
              "      <td>3689</td>\n",
              "      <td>1380</td>\n",
              "    </tr>\n",
              "    <tr>\n",
              "      <th>2</th>\n",
              "      <td>katyperry</td>\n",
              "      <td>Life goals. https://t.co/XIn1qKMKQl</td>\n",
              "      <td>NaN</td>\n",
              "      <td>11/01/2017 02:52</td>\n",
              "      <td>8.190140e+17</td>\n",
              "      <td>en</td>\n",
              "      <td>NaN</td>\n",
              "      <td>NaN</td>\n",
              "      <td>10341</td>\n",
              "      <td>2387</td>\n",
              "    </tr>\n",
              "    <tr>\n",
              "      <th>3</th>\n",
              "      <td>katyperry</td>\n",
              "      <td>Me right now 🙏🏻 https://t.co/gW55C1wrwd</td>\n",
              "      <td>NaN</td>\n",
              "      <td>11/01/2017 02:44</td>\n",
              "      <td>8.190120e+17</td>\n",
              "      <td>en</td>\n",
              "      <td>NaN</td>\n",
              "      <td>NaN</td>\n",
              "      <td>10774</td>\n",
              "      <td>2458</td>\n",
              "    </tr>\n",
              "    <tr>\n",
              "      <th>4</th>\n",
              "      <td>katyperry</td>\n",
              "      <td>SISTERS ARE DOIN' IT FOR THEMSELVES! 🙌🏻💪🏻❤️ ht...</td>\n",
              "      <td>NaN</td>\n",
              "      <td>10/01/2017 05:22</td>\n",
              "      <td>8.186890e+17</td>\n",
              "      <td>en</td>\n",
              "      <td>NaN</td>\n",
              "      <td>NaN</td>\n",
              "      <td>17620</td>\n",
              "      <td>4655</td>\n",
              "    </tr>\n",
              "  </tbody>\n",
              "</table>\n",
              "</div>\n",
              "      <button class=\"colab-df-convert\" onclick=\"convertToInteractive('df-de6074e1-a4aa-4dc2-8ca5-d1a7da790c10')\"\n",
              "              title=\"Convert this dataframe to an interactive table.\"\n",
              "              style=\"display:none;\">\n",
              "        \n",
              "  <svg xmlns=\"http://www.w3.org/2000/svg\" height=\"24px\"viewBox=\"0 0 24 24\"\n",
              "       width=\"24px\">\n",
              "    <path d=\"M0 0h24v24H0V0z\" fill=\"none\"/>\n",
              "    <path d=\"M18.56 5.44l.94 2.06.94-2.06 2.06-.94-2.06-.94-.94-2.06-.94 2.06-2.06.94zm-11 1L8.5 8.5l.94-2.06 2.06-.94-2.06-.94L8.5 2.5l-.94 2.06-2.06.94zm10 10l.94 2.06.94-2.06 2.06-.94-2.06-.94-.94-2.06-.94 2.06-2.06.94z\"/><path d=\"M17.41 7.96l-1.37-1.37c-.4-.4-.92-.59-1.43-.59-.52 0-1.04.2-1.43.59L10.3 9.45l-7.72 7.72c-.78.78-.78 2.05 0 2.83L4 21.41c.39.39.9.59 1.41.59.51 0 1.02-.2 1.41-.59l7.78-7.78 2.81-2.81c.8-.78.8-2.07 0-2.86zM5.41 20L4 18.59l7.72-7.72 1.47 1.35L5.41 20z\"/>\n",
              "  </svg>\n",
              "      </button>\n",
              "      \n",
              "  <style>\n",
              "    .colab-df-container {\n",
              "      display:flex;\n",
              "      flex-wrap:wrap;\n",
              "      gap: 12px;\n",
              "    }\n",
              "\n",
              "    .colab-df-convert {\n",
              "      background-color: #E8F0FE;\n",
              "      border: none;\n",
              "      border-radius: 50%;\n",
              "      cursor: pointer;\n",
              "      display: none;\n",
              "      fill: #1967D2;\n",
              "      height: 32px;\n",
              "      padding: 0 0 0 0;\n",
              "      width: 32px;\n",
              "    }\n",
              "\n",
              "    .colab-df-convert:hover {\n",
              "      background-color: #E2EBFA;\n",
              "      box-shadow: 0px 1px 2px rgba(60, 64, 67, 0.3), 0px 1px 3px 1px rgba(60, 64, 67, 0.15);\n",
              "      fill: #174EA6;\n",
              "    }\n",
              "\n",
              "    [theme=dark] .colab-df-convert {\n",
              "      background-color: #3B4455;\n",
              "      fill: #D2E3FC;\n",
              "    }\n",
              "\n",
              "    [theme=dark] .colab-df-convert:hover {\n",
              "      background-color: #434B5C;\n",
              "      box-shadow: 0px 1px 3px 1px rgba(0, 0, 0, 0.15);\n",
              "      filter: drop-shadow(0px 1px 2px rgba(0, 0, 0, 0.3));\n",
              "      fill: #FFFFFF;\n",
              "    }\n",
              "  </style>\n",
              "\n",
              "      <script>\n",
              "        const buttonEl =\n",
              "          document.querySelector('#df-de6074e1-a4aa-4dc2-8ca5-d1a7da790c10 button.colab-df-convert');\n",
              "        buttonEl.style.display =\n",
              "          google.colab.kernel.accessAllowed ? 'block' : 'none';\n",
              "\n",
              "        async function convertToInteractive(key) {\n",
              "          const element = document.querySelector('#df-de6074e1-a4aa-4dc2-8ca5-d1a7da790c10');\n",
              "          const dataTable =\n",
              "            await google.colab.kernel.invokeFunction('convertToInteractive',\n",
              "                                                     [key], {});\n",
              "          if (!dataTable) return;\n",
              "\n",
              "          const docLinkHtml = 'Like what you see? Visit the ' +\n",
              "            '<a target=\"_blank\" href=https://colab.research.google.com/notebooks/data_table.ipynb>data table notebook</a>'\n",
              "            + ' to learn more about interactive tables.';\n",
              "          element.innerHTML = '';\n",
              "          dataTable['output_type'] = 'display_data';\n",
              "          await google.colab.output.renderOutput(dataTable, element);\n",
              "          const docLink = document.createElement('div');\n",
              "          docLink.innerHTML = docLinkHtml;\n",
              "          element.appendChild(docLink);\n",
              "        }\n",
              "      </script>\n",
              "    </div>\n",
              "  </div>\n",
              "  "
            ]
          },
          "metadata": {},
          "execution_count": 5
        }
      ]
    },
    {
      "cell_type": "code",
      "source": [
        "for user in set(df['author']):\n",
        "  print(user)"
      ],
      "metadata": {
        "colab": {
          "base_uri": "https://localhost:8080/"
        },
        "id": "50Fx6WqI9oxa",
        "outputId": "456574d9-6d5a-4dc9-9ffb-67ca3716f4c5"
      },
      "execution_count": 6,
      "outputs": [
        {
          "output_type": "stream",
          "name": "stdout",
          "text": [
            "selenagomez\n",
            "ddlovato\n",
            "ArianaGrande\n",
            "TheEllenShow\n",
            "britneyspears\n",
            "rihanna\n",
            "KimKardashian\n",
            "BarackObama\n",
            "YouTube\n",
            "jimmyfallon\n",
            "cnnbrk\n",
            "Twitter\n",
            "ladygaga\n",
            "katyperry\n",
            "Cristiano\n",
            "taylorswift13\n",
            "jtimberlake\n",
            "shakira\n",
            "justinbieber\n",
            "instagram\n"
          ]
        }
      ]
    },
    {
      "cell_type": "code",
      "source": [
        "for tweet in df[df['author']=='Twitter']['content'][:10]:\n",
        "  print(tweet)\n",
        "  print()"
      ],
      "metadata": {
        "colab": {
          "base_uri": "https://localhost:8080/"
        },
        "id": "kElCb1MS9rBR",
        "outputId": "42e0fc77-76af-44d6-e6d1-b843defa3466"
      },
      "execution_count": 7,
      "outputs": [
        {
          "output_type": "stream",
          "name": "stdout",
          "text": [
            "@ashley_ardinger We shall dub thee: “Meme Master Ashley\"\n",
            "\n",
            "@wakandaho https://t.co/4LYgd60MC6\n",
            "\n",
            "@ashley_ardinger Meme of the week goes to you. 🏆 https://t.co/gsjBzfDFM8\n",
            "\n",
            "@MaggyTheBrave What a time it’s been. Happy 10 year, and here’s to many more! 😍\n",
            "\n",
            "@itsqueenlena You got a pet giraffe?!\n",
            "\n",
            "@rizahmmed Or is it... https://t.co/pDBup4kfFS\n",
            "\n",
            "https://t.co/5lUMHzkIZw\n",
            "\n",
            "#DayOne traditions continue.\r\n",
            "\r\n",
            "Watch the #Inauguration parade LIVE.\r\n",
            "https://t.co/lWghuqKB5t\n",
            "\n",
            "#DayOne begins right now.\r\n",
            "\r\n",
            "The 45th U.S. Presidential #Inauguration is streaming LIVE.\r\n",
            "\r\n",
            "https://t.co/cXqjEOQqZn\n",
            "\n",
            "Today marks #DayOne.\r\n",
            "\r\n",
            "The 45th U.S. Presidential #Inauguration streams LIVE at 11am ET, right here on Twitter.\r\n",
            "\r\n",
            "https://t.co/cXqjEOQqZn\n",
            "\n"
          ]
        }
      ]
    },
    {
      "cell_type": "code",
      "source": [
        "print(len(df))\n",
        "df['timestamp'] = pd.to_datetime(df['date_time']).astype(int)\n",
        "plt.hist(df['timestamp'])"
      ],
      "metadata": {
        "colab": {
          "base_uri": "https://localhost:8080/",
          "height": 459
        },
        "id": "YkPYeEFb9uaq",
        "outputId": "341f0512-1c30-47f2-b1d0-6293f62b0c27"
      },
      "execution_count": 8,
      "outputs": [
        {
          "output_type": "stream",
          "name": "stdout",
          "text": [
            "52542\n"
          ]
        },
        {
          "output_type": "stream",
          "name": "stderr",
          "text": [
            "/usr/local/lib/python3.7/dist-packages/ipykernel_launcher.py:2: FutureWarning: casting datetime64[ns] values to int64 with .astype(...) is deprecated and will raise in a future version. Use .view(...) instead.\n",
            "  \n"
          ]
        },
        {
          "output_type": "execute_result",
          "data": {
            "text/plain": [
              "(array([  580.,  1275.,  1493.,  2818.,  5370.,  5664.,  8042., 13081.,\n",
              "        13674.,   545.]),\n",
              " array([1.26112176e+18, 1.28622668e+18, 1.31133161e+18, 1.33643653e+18,\n",
              "        1.36154146e+18, 1.38664638e+18, 1.41175130e+18, 1.43685623e+18,\n",
              "        1.46196115e+18, 1.48706608e+18, 1.51217100e+18]),\n",
              " <a list of 10 Patch objects>)"
            ]
          },
          "metadata": {},
          "execution_count": 8
        },
        {
          "output_type": "display_data",
          "data": {
            "text/plain": [
              "<Figure size 432x288 with 1 Axes>"
            ],
            "image/png": "[encoded data removed]"
          },
          "metadata": {
            "needs_background": "light"
          }
        }
      ]
    },
    {
      "cell_type": "markdown",
      "source": [
        "## KNN Example"
      ],
      "metadata": {
        "id": "ixdJJdky-Iuc"
      }
    },
    {
      "cell_type": "code",
      "source": [
        "# KNN example problem: predict author given number of likes and number of shares\n",
        "var1 = 'number_of_likes'\n",
        "var2 = 'number_of_shares' # 'timestamp'\n",
        "\n",
        "# Let's use only 3 authors for this\n",
        "num_labels = 3\n",
        "chosen_labels = np.random.choice(list(set(df['author'])), num_labels, replace=False)\n",
        "df_simpler = df.loc[df['author'].isin(chosen_labels)]\n",
        "\n",
        "# Set up train and test sets\n",
        "X = df_simpler[[var1, var2]]\n",
        "label_encoder = preprocessing.LabelEncoder()\n",
        "Y = label_encoder.fit_transform(df_simpler['author'])\n",
        "x_train, x_test, y_train, y_test = train_test_split(X, Y, test_size=0.2)\n",
        "\n",
        "print(len(x_train))\n",
        "print(len(x_test))\n",
        "print(X.head(10))\n",
        "print(set(Y))"
      ],
      "metadata": {
        "colab": {
          "base_uri": "https://localhost:8080/"
        },
        "id": "bABP5WMK9xeb",
        "outputId": "b2e60c44-1215-4458-f0ec-9e6621833b27"
      },
      "execution_count": 21,
      "outputs": [
        {
          "output_type": "stream",
          "name": "stdout",
          "text": [
            "6355\n",
            "1589\n",
            "       number_of_likes  number_of_shares\n",
            "12693              719               107\n",
            "12694              646                79\n",
            "12695              522                57\n",
            "12696              467                51\n",
            "12697              542                49\n",
            "12698               22                 2\n",
            "12699               50                 1\n",
            "12700              239                23\n",
            "12701              750               120\n",
            "12702              906               217\n",
            "{0, 1, 2}\n"
          ]
        }
      ]
    },
    {
      "cell_type": "code",
      "source": [
        "model = KNeighborsClassifier(n_neighbors=10)\n",
        "model.fit(x_train, y_train)\n",
        "print(model.score(x_test, y_test))"
      ],
      "metadata": {
        "colab": {
          "base_uri": "https://localhost:8080/"
        },
        "id": "LHj00K5S94Rz",
        "outputId": "a7896371-8605-4ef6-ad04-62ea109a7273"
      },
      "execution_count": 22,
      "outputs": [
        {
          "output_type": "stream",
          "name": "stdout",
          "text": [
            "0.7432347388294525\n"
          ]
        }
      ]
    },
    {
      "cell_type": "code",
      "source": [
        "# Plot train set\n",
        "\n",
        "# Predictions on the whole space\n",
        "x_min, x_max = X[var1].min(), X[var1].max()\n",
        "y_min, y_max = X[var2].min(), X[var2].max()\n",
        "if var2 == 'timestamp':\n",
        "  steps = 100000000000000\n",
        "else:\n",
        "  steps = 1000\n",
        "xx, yy = np.meshgrid(\n",
        "    np.arange(x_min, x_max, 1000),\n",
        "    np.arange(y_min, y_max, steps)\n",
        ")\n",
        "Z = model.predict(np.c_[xx.ravel(), yy.ravel()])\n",
        "\n",
        "# Plot the predictions on the space\n",
        "Z = Z.reshape(xx.shape)\n",
        "plt.figure(figsize=(10, 10))\n",
        "plt.contourf(\n",
        "    xx, yy, Z,\n",
        "    colors=sns.color_palette(palette='pastel', n_colors=num_labels, as_cmap=True)\n",
        ")\n",
        "\n",
        "# Plot the train set\n",
        "sns.scatterplot(\n",
        "    x=x_train[var1],\n",
        "    y=x_train[var2],\n",
        "    hue=y_train,\n",
        "    hue_order=sns.color_palette(palette='bright', n_colors=num_labels, as_cmap=True),\n",
        "    alpha=0.5, edgecolor=\"none\",\n",
        "    legend='full'\n",
        ")\n",
        "\n",
        "# Title, axis labels, legend\n",
        "plt.xlim(xx.min(), xx.max())\n",
        "plt.ylim(yy.min(), yy.max())\n",
        "plt.title('Decision boundaries for tweet authors')\n",
        "plt.xlabel(var1)\n",
        "plt.ylabel(var2)\n",
        "plt.show()"
      ],
      "metadata": {
        "colab": {
          "base_uri": "https://localhost:8080/",
          "height": 678
        },
        "id": "N9IL8XcT97zO",
        "outputId": "10ae9d5e-5650-42dc-91ec-cf0295939078"
      },
      "execution_count": 23,
      "outputs": [
        {
          "output_type": "stream",
          "name": "stderr",
          "text": [
            "/usr/local/lib/python3.7/dist-packages/sklearn/base.py:451: UserWarning: X does not have valid feature names, but KNeighborsClassifier was fitted with feature names\n",
            "  \"X does not have valid feature names, but\"\n"
          ]
        },
        {
          "output_type": "display_data",
          "data": {
            "text/plain": [
              "<Figure size 720x720 with 1 Axes>"
            ],
            "image/png": "[encoded data removed]"
          },
          "metadata": {
            "needs_background": "light"
          }
        }
      ]
    },
    {
      "cell_type": "markdown",
      "source": [
        "As we can see with var2='timestamp' in the graph above, since timestamps are such huge numbers, the decision boundaries are dominated by it! Number of likes doesn't even matter, and the classification is based entirely on timestamp. The way to fix this would be to normalize the data so the two variables are on the same scale."
      ],
      "metadata": {
        "id": "jpF1Ntg-AXA6"
      }
    },
    {
      "cell_type": "markdown",
      "source": [
        "## Decision Trees\n",
        "\n",
        "Defining a decision tree:\n",
        "\n",
        "- Each node of the tree is a collection of data points\n",
        "- The tree root has all the data points in it\n",
        "- A node's children are the collections you get when you split the parent node's collection based on a feature value\n",
        " - (e.g. one child gets all x < 5, other child gets all x >= 5, where x is some feature)\n",
        "- The decision tree is trained (the splits are decided) by splitting each node's data on the feature that results in the largest Information Gain (IG)"
      ],
      "metadata": {
        "id": "c558p8MTCyeQ"
      }
    },
    {
      "cell_type": "code",
      "source": [
        "# Example: automated content moderation on our (fake) forum!\n",
        "\n",
        "# For this example, I have picked pieces of 10 comments from various sources,\n",
        "# mostly the Kaggle toxic comment classification challenge\n",
        "# (https://www.kaggle.com/c/jigsaw-toxic-comment-classification-challenge)\n",
        "\n",
        "# I have replaced all profanity with <profanity>\n",
        "# (this can be done with a predetermined word list)\n",
        "\n",
        "# 1 means labelers deemed it unacceptable for our forum, 0 means it was deemed fine\n",
        "\n",
        "df = pd.DataFrame({\n",
        "    'comment': [\n",
        "        'Yo <profanity> Ja Rule is more succesful then you\\'ll ever be',\n",
        "        'Please do not add nonsense to Wikipedia.',\n",
        "        'His <profanity> is gonna get fired.',\n",
        "        'I WILL <profanity> IF YOU REVOKE MY TALK PAGE ACCESS!!!!!!!!!!!!!',\n",
        "        'That\\'s my <profanity>',\n",
        "        'Wassup <profanity>',\n",
        "        'Her body is perfect. Face, hips, all of it.',\n",
        "        '<profanity> off my <profanity> you <profanity> <profanity> pig <profanity>.',\n",
        "        'This is just bizarre. WTF?',\n",
        "        'HI FRANKIE HOW ARE YOU I HEARD YOU LIKE TO <profanity> <profanity> <profanity>'\n",
        "    ],\n",
        "    'label': [1, 0, 1, 1, 0, 1, 0, 1, 0, 1]\n",
        "})\n",
        "\n",
        "df.head(len(df))"
      ],
      "metadata": {
        "colab": {
          "base_uri": "https://localhost:8080/",
          "height": 363
        },
        "id": "-i91Uufl9-kR",
        "outputId": "2b30dc19-c635-4c20-df3f-21f824356e8c"
      },
      "execution_count": 24,
      "outputs": [
        {
          "output_type": "execute_result",
          "data": {
            "text/plain": [
              "                                             comment  label\n",
              "0  Yo <profanity> Ja Rule is more succesful then ...      1\n",
              "1           Please do not add nonsense to Wikipedia.      0\n",
              "2                His <profanity> is gonna get fired.      1\n",
              "3  I WILL <profanity> IF YOU REVOKE MY TALK PAGE ...      1\n",
              "4                              That's my <profanity>      0\n",
              "5                                 Wassup <profanity>      1\n",
              "6        Her body is perfect. Face, hips, all of it.      0\n",
              "7  <profanity> off my <profanity> you <profanity>...      1\n",
              "8                         This is just bizarre. WTF?      0\n",
              "9  HI FRANKIE HOW ARE YOU I HEARD YOU LIKE TO <pr...      1"
            ],
            "text/html": [
              "\n",
              "  <div id=\"df-1812b95b-cb31-44be-88db-cc578478ff2e\">\n",
              "    <div class=\"colab-df-container\">\n",
              "      <div>\n",
              "<style scoped>\n",
              "    .dataframe tbody tr th:only-of-type {\n",
              "        vertical-align: middle;\n",
              "    }\n",
              "\n",
              "    .dataframe tbody tr th {\n",
              "        vertical-align: top;\n",
              "    }\n",
              "\n",
              "    .dataframe thead th {\n",
              "        text-align: right;\n",
              "    }\n",
              "</style>\n",
              "<table border=\"1\" class=\"dataframe\">\n",
              "  <thead>\n",
              "    <tr style=\"text-align: right;\">\n",
              "      <th></th>\n",
              "      <th>comment</th>\n",
              "      <th>label</th>\n",
              "    </tr>\n",
              "  </thead>\n",
              "  <tbody>\n",
              "    <tr>\n",
              "      <th>0</th>\n",
              "      <td>Yo &lt;profanity&gt; Ja Rule is more succesful then ...</td>\n",
              "      <td>1</td>\n",
              "    </tr>\n",
              "    <tr>\n",
              "      <th>1</th>\n",
              "      <td>Please do not add nonsense to Wikipedia.</td>\n",
              "      <td>0</td>\n",
              "    </tr>\n",
              "    <tr>\n",
              "      <th>2</th>\n",
              "      <td>His &lt;profanity&gt; is gonna get fired.</td>\n",
              "      <td>1</td>\n",
              "    </tr>\n",
              "    <tr>\n",
              "      <th>3</th>\n",
              "      <td>I WILL &lt;profanity&gt; IF YOU REVOKE MY TALK PAGE ...</td>\n",
              "      <td>1</td>\n",
              "    </tr>\n",
              "    <tr>\n",
              "      <th>4</th>\n",
              "      <td>That's my &lt;profanity&gt;</td>\n",
              "      <td>0</td>\n",
              "    </tr>\n",
              "    <tr>\n",
              "      <th>5</th>\n",
              "      <td>Wassup &lt;profanity&gt;</td>\n",
              "      <td>1</td>\n",
              "    </tr>\n",
              "    <tr>\n",
              "      <th>6</th>\n",
              "      <td>Her body is perfect. Face, hips, all of it.</td>\n",
              "      <td>0</td>\n",
              "    </tr>\n",
              "    <tr>\n",
              "      <th>7</th>\n",
              "      <td>&lt;profanity&gt; off my &lt;profanity&gt; you &lt;profanity&gt;...</td>\n",
              "      <td>1</td>\n",
              "    </tr>\n",
              "    <tr>\n",
              "      <th>8</th>\n",
              "      <td>This is just bizarre. WTF?</td>\n",
              "      <td>0</td>\n",
              "    </tr>\n",
              "    <tr>\n",
              "      <th>9</th>\n",
              "      <td>HI FRANKIE HOW ARE YOU I HEARD YOU LIKE TO &lt;pr...</td>\n",
              "      <td>1</td>\n",
              "    </tr>\n",
              "  </tbody>\n",
              "</table>\n",
              "</div>\n",
              "      <button class=\"colab-df-convert\" onclick=\"convertToInteractive('df-1812b95b-cb31-44be-88db-cc578478ff2e')\"\n",
              "              title=\"Convert this dataframe to an interactive table.\"\n",
              "              style=\"display:none;\">\n",
              "        \n",
              "  <svg xmlns=\"http://www.w3.org/2000/svg\" height=\"24px\"viewBox=\"0 0 24 24\"\n",
              "       width=\"24px\">\n",
              "    <path d=\"M0 0h24v24H0V0z\" fill=\"none\"/>\n",
              "    <path d=\"M18.56 5.44l.94 2.06.94-2.06 2.06-.94-2.06-.94-.94-2.06-.94 2.06-2.06.94zm-11 1L8.5 8.5l.94-2.06 2.06-.94-2.06-.94L8.5 2.5l-.94 2.06-2.06.94zm10 10l.94 2.06.94-2.06 2.06-.94-2.06-.94-.94-2.06-.94 2.06-2.06.94z\"/><path d=\"M17.41 7.96l-1.37-1.37c-.4-.4-.92-.59-1.43-.59-.52 0-1.04.2-1.43.59L10.3 9.45l-7.72 7.72c-.78.78-.78 2.05 0 2.83L4 21.41c.39.39.9.59 1.41.59.51 0 1.02-.2 1.41-.59l7.78-7.78 2.81-2.81c.8-.78.8-2.07 0-2.86zM5.41 20L4 18.59l7.72-7.72 1.47 1.35L5.41 20z\"/>\n",
              "  </svg>\n",
              "      </button>\n",
              "      \n",
              "  <style>\n",
              "    .colab-df-container {\n",
              "      display:flex;\n",
              "      flex-wrap:wrap;\n",
              "      gap: 12px;\n",
              "    }\n",
              "\n",
              "    .colab-df-convert {\n",
              "      background-color: #E8F0FE;\n",
              "      border: none;\n",
              "      border-radius: 50%;\n",
              "      cursor: pointer;\n",
              "      display: none;\n",
              "      fill: #1967D2;\n",
              "      height: 32px;\n",
              "      padding: 0 0 0 0;\n",
              "      width: 32px;\n",
              "    }\n",
              "\n",
              "    .colab-df-convert:hover {\n",
              "      background-color: #E2EBFA;\n",
              "      box-shadow: 0px 1px 2px rgba(60, 64, 67, 0.3), 0px 1px 3px 1px rgba(60, 64, 67, 0.15);\n",
              "      fill: #174EA6;\n",
              "    }\n",
              "\n",
              "    [theme=dark] .colab-df-convert {\n",
              "      background-color: #3B4455;\n",
              "      fill: #D2E3FC;\n",
              "    }\n",
              "\n",
              "    [theme=dark] .colab-df-convert:hover {\n",
              "      background-color: #434B5C;\n",
              "      box-shadow: 0px 1px 3px 1px rgba(0, 0, 0, 0.15);\n",
              "      filter: drop-shadow(0px 1px 2px rgba(0, 0, 0, 0.3));\n",
              "      fill: #FFFFFF;\n",
              "    }\n",
              "  </style>\n",
              "\n",
              "      <script>\n",
              "        const buttonEl =\n",
              "          document.querySelector('#df-1812b95b-cb31-44be-88db-cc578478ff2e button.colab-df-convert');\n",
              "        buttonEl.style.display =\n",
              "          google.colab.kernel.accessAllowed ? 'block' : 'none';\n",
              "\n",
              "        async function convertToInteractive(key) {\n",
              "          const element = document.querySelector('#df-1812b95b-cb31-44be-88db-cc578478ff2e');\n",
              "          const dataTable =\n",
              "            await google.colab.kernel.invokeFunction('convertToInteractive',\n",
              "                                                     [key], {});\n",
              "          if (!dataTable) return;\n",
              "\n",
              "          const docLinkHtml = 'Like what you see? Visit the ' +\n",
              "            '<a target=\"_blank\" href=https://colab.research.google.com/notebooks/data_table.ipynb>data table notebook</a>'\n",
              "            + ' to learn more about interactive tables.';\n",
              "          element.innerHTML = '';\n",
              "          dataTable['output_type'] = 'display_data';\n",
              "          await google.colab.output.renderOutput(dataTable, element);\n",
              "          const docLink = document.createElement('div');\n",
              "          docLink.innerHTML = docLinkHtml;\n",
              "          element.appendChild(docLink);\n",
              "        }\n",
              "      </script>\n",
              "    </div>\n",
              "  </div>\n",
              "  "
            ]
          },
          "metadata": {},
          "execution_count": 24
        }
      ]
    },
    {
      "cell_type": "code",
      "source": [
        "vectorizer = CountVectorizer()\n",
        "X = vectorizer.fit_transform(df['comment'])\n",
        "print(vectorizer.get_feature_names())\n",
        "print(X.toarray())"
      ],
      "metadata": {
        "colab": {
          "base_uri": "https://localhost:8080/"
        },
        "id": "inkQj9X0AXg9",
        "outputId": "d4ab7727-3419-4f15-915e-550d2302eda2"
      },
      "execution_count": 27,
      "outputs": [
        {
          "output_type": "stream",
          "name": "stdout",
          "text": [
            "['access', 'add', 'all', 'are', 'be', 'bizarre', 'body', 'do', 'ever', 'face', 'fired', 'frankie', 'get', 'gonna', 'heard', 'her', 'hi', 'hips', 'his', 'how', 'if', 'is', 'it', 'ja', 'just', 'like', 'll', 'more', 'my', 'nonsense', 'not', 'of', 'off', 'page', 'perfect', 'pig', 'please', 'profanity', 'revoke', 'rule', 'succesful', 'talk', 'that', 'then', 'this', 'to', 'wassup', 'wikipedia', 'will', 'wtf', 'yo', 'you']\n",
            "[[0 0 0 0 1 0 0 0 1 0 0 0 0 0 0 0 0 0 0 0 0 1 0 1 0 0 1 1 0 0 0 0 0 0 0 0\n",
            "  0 1 0 1 1 0 0 1 0 0 0 0 0 0 1 1]\n",
            " [0 1 0 0 0 0 0 1 0 0 0 0 0 0 0 0 0 0 0 0 0 0 0 0 0 0 0 0 0 1 1 0 0 0 0 0\n",
            "  1 0 0 0 0 0 0 0 0 1 0 1 0 0 0 0]\n",
            " [0 0 0 0 0 0 0 0 0 0 1 0 1 1 0 0 0 0 1 0 0 1 0 0 0 0 0 0 0 0 0 0 0 0 0 0\n",
            "  0 1 0 0 0 0 0 0 0 0 0 0 0 0 0 0]\n",
            " [1 0 0 0 0 0 0 0 0 0 0 0 0 0 0 0 0 0 0 0 1 0 0 0 0 0 0 0 1 0 0 0 0 1 0 0\n",
            "  0 1 1 0 0 1 0 0 0 0 0 0 1 0 0 1]\n",
            " [0 0 0 0 0 0 0 0 0 0 0 0 0 0 0 0 0 0 0 0 0 0 0 0 0 0 0 0 1 0 0 0 0 0 0 0\n",
            "  0 1 0 0 0 0 1 0 0 0 0 0 0 0 0 0]\n",
            " [0 0 0 0 0 0 0 0 0 0 0 0 0 0 0 0 0 0 0 0 0 0 0 0 0 0 0 0 0 0 0 0 0 0 0 0\n",
            "  0 1 0 0 0 0 0 0 0 0 1 0 0 0 0 0]\n",
            " [0 0 1 0 0 0 1 0 0 1 0 0 0 0 0 1 0 1 0 0 0 1 1 0 0 0 0 0 0 0 0 1 0 0 1 0\n",
            "  0 0 0 0 0 0 0 0 0 0 0 0 0 0 0 0]\n",
            " [0 0 0 0 0 0 0 0 0 0 0 0 0 0 0 0 0 0 0 0 0 0 0 0 0 0 0 0 1 0 0 0 1 0 0 1\n",
            "  0 5 0 0 0 0 0 0 0 0 0 0 0 0 0 1]\n",
            " [0 0 0 0 0 1 0 0 0 0 0 0 0 0 0 0 0 0 0 0 0 1 0 0 1 0 0 0 0 0 0 0 0 0 0 0\n",
            "  0 0 0 0 0 0 0 0 1 0 0 0 0 1 0 0]\n",
            " [0 0 0 1 0 0 0 0 0 0 0 1 0 0 1 0 1 0 0 1 0 0 0 0 0 1 0 0 0 0 0 0 0 0 0 0\n",
            "  0 3 0 0 0 0 0 0 0 1 0 0 0 0 0 2]]\n"
          ]
        },
        {
          "output_type": "stream",
          "name": "stderr",
          "text": [
            "/usr/local/lib/python3.7/dist-packages/sklearn/utils/deprecation.py:87: FutureWarning: Function get_feature_names is deprecated; get_feature_names is deprecated in 1.0 and will be removed in 1.2. Please use get_feature_names_out instead.\n",
            "  warnings.warn(msg, category=FutureWarning)\n"
          ]
        }
      ]
    },
    {
      "cell_type": "code",
      "source": [
        "# Train a decision tree classifier\n",
        "clf = DecisionTreeClassifier(criterion='entropy', max_depth=2)\n",
        "clf.fit(X, df['label'])\n",
        "\n",
        "# Output a visualization of it to tree.png\n",
        "dot_data = tree.export_graphviz(clf, filled=True, rounded=True,\n",
        "                     class_names=['acceptable', 'unacceptable'], \n",
        "                     feature_names=vectorizer.get_feature_names(),\n",
        "                     out_file=None)\n",
        "graph = graph_from_dot_data(dot_data)\n",
        "graph.write_png('tree.png')\n",
        "\n",
        "# Display tree.png here\n",
        "Image(filename='tree.png')"
      ],
      "metadata": {
        "colab": {
          "base_uri": "https://localhost:8080/",
          "height": 492
        },
        "id": "5U5803B_DT5_",
        "outputId": "06843abd-336e-4dfc-bb50-e0c49039eeb7"
      },
      "execution_count": 29,
      "outputs": [
        {
          "output_type": "stream",
          "name": "stderr",
          "text": [
            "/usr/local/lib/python3.7/dist-packages/sklearn/utils/deprecation.py:87: FutureWarning: Function get_feature_names is deprecated; get_feature_names is deprecated in 1.0 and will be removed in 1.2. Please use get_feature_names_out instead.\n",
            "  warnings.warn(msg, category=FutureWarning)\n"
          ]
        },
        {
          "output_type": "execute_result",
          "data": {
            "image/png": "[encoded data removed]",
            "text/plain": [
              "<IPython.core.display.Image object>"
            ]
          },
          "metadata": {},
          "execution_count": 29
        }
      ]
    },
    {
      "cell_type": "markdown",
      "source": [
        "Decision trees are are interpretable!"
      ],
      "metadata": {
        "id": "rNWygdezDtbj"
      }
    },
    {
      "cell_type": "code",
      "source": [],
      "metadata": {
        "id": "V85V0YoMDlfc"
      },
      "execution_count": null,
      "outputs": []
    }
  ]
}
