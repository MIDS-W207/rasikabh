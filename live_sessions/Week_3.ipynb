{
  "nbformat": 4,
  "nbformat_minor": 0,
  "metadata": {
    "colab": {
      "name": "Week 3.ipynb",
      "provenance": [],
      "collapsed_sections": []
    },
    "kernelspec": {
      "name": "python3",
      "display_name": "Python 3"
    },
    "language_info": {
      "name": "python"
    }
  },
  "cells": [
    {
      "cell_type": "markdown",
      "metadata": {
        "id": "z0dR-3SoxVqP"
      },
      "source": [
        "# Week 3\n",
        "# Rasika Bhalerao\n",
        "\n",
        "# Agenda\n",
        "\n",
        "- Inspect dataset\n",
        "- Bernoulli Naive Bayes (binary features)\n",
        "- Multinomial Naive Bayes (discrete features)\n",
        "- Naive Bayes to generate documents\n",
        "- (If time) Gaussian Naive Bayes (continuous features)"
      ]
    },
    {
      "cell_type": "code",
      "metadata": {
        "id": "X2lRPWDnxbAd"
      },
      "source": [
        "import pandas as pd\n",
        "import numpy as np\n",
        "import matplotlib.pyplot as plt\n",
        "from sklearn.naive_bayes import BernoulliNB, MultinomialNB\n",
        "from sklearn.model_selection import train_test_split\n",
        "from sklearn.feature_extraction.text import CountVectorizer\n",
        "\n",
        "# This tells matplolib not to try opening a new window for each plot\n",
        "%matplotlib inline"
      ],
      "execution_count": null,
      "outputs": []
    },
    {
      "cell_type": "code",
      "metadata": {
        "colab": {
          "base_uri": "https://localhost:8080/",
          "height": 255
        },
        "id": "xL6Q7Xw6zEnH",
        "outputId": "c9ff8fbd-c58d-49c1-835a-626524de1ff1"
      },
      "source": [
        "# Inspect dataset\n",
        "\n",
        "\n",
        "df = pd.DataFrame({\n",
        "    'document': [\n",
        "        'whiskers tail tail paw purr',\n",
        "        'meow whiskers whiskers',\n",
        "        'meow meow paw purr',\n",
        "        'paw bark woof bark',\n",
        "        'paw paw bark bark'\n",
        "    ],\n",
        "    'category': [\n",
        "        'cat', 'cat', 'cat', 'dog', 'dog'\n",
        "    ]\n",
        "})\n",
        "\n",
        "print(f'Shape: {df.shape}')\n",
        "print(f'Categories: {df[\"category\"].unique()}')\n",
        "print()\n",
        "df.head()"
      ],
      "execution_count": null,
      "outputs": [
        {
          "output_type": "stream",
          "name": "stdout",
          "text": [
            "Shape: (5, 2)\n",
            "Categories: ['cat' 'dog']\n",
            "\n"
          ]
        },
        {
          "output_type": "execute_result",
          "data": {
            "text/html": [
              "<div>\n",
              "<style scoped>\n",
              "    .dataframe tbody tr th:only-of-type {\n",
              "        vertical-align: middle;\n",
              "    }\n",
              "\n",
              "    .dataframe tbody tr th {\n",
              "        vertical-align: top;\n",
              "    }\n",
              "\n",
              "    .dataframe thead th {\n",
              "        text-align: right;\n",
              "    }\n",
              "</style>\n",
              "<table border=\"1\" class=\"dataframe\">\n",
              "  <thead>\n",
              "    <tr style=\"text-align: right;\">\n",
              "      <th></th>\n",
              "      <th>document</th>\n",
              "      <th>category</th>\n",
              "    </tr>\n",
              "  </thead>\n",
              "  <tbody>\n",
              "    <tr>\n",
              "      <th>0</th>\n",
              "      <td>whiskers tail tail paw purr</td>\n",
              "      <td>cat</td>\n",
              "    </tr>\n",
              "    <tr>\n",
              "      <th>1</th>\n",
              "      <td>meow whiskers whiskers</td>\n",
              "      <td>cat</td>\n",
              "    </tr>\n",
              "    <tr>\n",
              "      <th>2</th>\n",
              "      <td>meow meow paw purr</td>\n",
              "      <td>cat</td>\n",
              "    </tr>\n",
              "    <tr>\n",
              "      <th>3</th>\n",
              "      <td>paw bark woof bark</td>\n",
              "      <td>dog</td>\n",
              "    </tr>\n",
              "    <tr>\n",
              "      <th>4</th>\n",
              "      <td>paw paw bark bark</td>\n",
              "      <td>dog</td>\n",
              "    </tr>\n",
              "  </tbody>\n",
              "</table>\n",
              "</div>"
            ],
            "text/plain": [
              "                      document category\n",
              "0  whiskers tail tail paw purr      cat\n",
              "1       meow whiskers whiskers      cat\n",
              "2           meow meow paw purr      cat\n",
              "3           paw bark woof bark      dog\n",
              "4            paw paw bark bark      dog"
            ]
          },
          "metadata": {},
          "execution_count": 5
        }
      ]
    },
    {
      "cell_type": "code",
      "metadata": {
        "colab": {
          "base_uri": "https://localhost:8080/"
        },
        "id": "TKByULQCHnOZ",
        "outputId": "b545e0f4-f9dc-4c6f-d9aa-0c5cc8f6bb3e"
      },
      "source": [
        "# Get features\n",
        "\n",
        "train_docs = np.array(df['document'])\n",
        "count = CountVectorizer()\n",
        "X_train = count.fit_transform(train_docs)\n",
        "\n",
        "print(f'features: {count.get_feature_names()}')\n",
        "print(f'X_train:\\n{X_train.toarray()}')"
      ],
      "execution_count": null,
      "outputs": [
        {
          "output_type": "stream",
          "name": "stdout",
          "text": [
            "features: ['bark', 'meow', 'paw', 'purr', 'tail', 'whiskers', 'woof']\n",
            "X_train:\n",
            "[[0 0 1 1 2 1 0]\n",
            " [0 1 0 0 0 2 0]\n",
            " [0 2 1 1 0 0 0]\n",
            " [2 0 1 0 0 0 1]\n",
            " [2 0 2 0 0 0 0]]\n"
          ]
        }
      ]
    },
    {
      "cell_type": "code",
      "metadata": {
        "colab": {
          "base_uri": "https://localhost:8080/",
          "height": 204
        },
        "id": "gkTql5s-IncB",
        "outputId": "c5e71002-87a6-4f85-90fb-3387e8740e24"
      },
      "source": [
        "# Make training set\n",
        "\n",
        "X_train = pd.DataFrame(X_train.toarray())\n",
        "X_train.columns = count.get_feature_names()\n",
        "\n",
        "y_train = df['category']\n",
        "\n",
        "train_df = pd.concat((y_train, X_train), axis=1)\n",
        "train_df"
      ],
      "execution_count": null,
      "outputs": [
        {
          "output_type": "execute_result",
          "data": {
            "text/html": [
              "<div>\n",
              "<style scoped>\n",
              "    .dataframe tbody tr th:only-of-type {\n",
              "        vertical-align: middle;\n",
              "    }\n",
              "\n",
              "    .dataframe tbody tr th {\n",
              "        vertical-align: top;\n",
              "    }\n",
              "\n",
              "    .dataframe thead th {\n",
              "        text-align: right;\n",
              "    }\n",
              "</style>\n",
              "<table border=\"1\" class=\"dataframe\">\n",
              "  <thead>\n",
              "    <tr style=\"text-align: right;\">\n",
              "      <th></th>\n",
              "      <th>category</th>\n",
              "      <th>bark</th>\n",
              "      <th>meow</th>\n",
              "      <th>paw</th>\n",
              "      <th>purr</th>\n",
              "      <th>tail</th>\n",
              "      <th>whiskers</th>\n",
              "      <th>woof</th>\n",
              "    </tr>\n",
              "  </thead>\n",
              "  <tbody>\n",
              "    <tr>\n",
              "      <th>0</th>\n",
              "      <td>cat</td>\n",
              "      <td>0</td>\n",
              "      <td>0</td>\n",
              "      <td>1</td>\n",
              "      <td>1</td>\n",
              "      <td>2</td>\n",
              "      <td>1</td>\n",
              "      <td>0</td>\n",
              "    </tr>\n",
              "    <tr>\n",
              "      <th>1</th>\n",
              "      <td>cat</td>\n",
              "      <td>0</td>\n",
              "      <td>1</td>\n",
              "      <td>0</td>\n",
              "      <td>0</td>\n",
              "      <td>0</td>\n",
              "      <td>2</td>\n",
              "      <td>0</td>\n",
              "    </tr>\n",
              "    <tr>\n",
              "      <th>2</th>\n",
              "      <td>cat</td>\n",
              "      <td>0</td>\n",
              "      <td>2</td>\n",
              "      <td>1</td>\n",
              "      <td>1</td>\n",
              "      <td>0</td>\n",
              "      <td>0</td>\n",
              "      <td>0</td>\n",
              "    </tr>\n",
              "    <tr>\n",
              "      <th>3</th>\n",
              "      <td>dog</td>\n",
              "      <td>2</td>\n",
              "      <td>0</td>\n",
              "      <td>1</td>\n",
              "      <td>0</td>\n",
              "      <td>0</td>\n",
              "      <td>0</td>\n",
              "      <td>1</td>\n",
              "    </tr>\n",
              "    <tr>\n",
              "      <th>4</th>\n",
              "      <td>dog</td>\n",
              "      <td>2</td>\n",
              "      <td>0</td>\n",
              "      <td>2</td>\n",
              "      <td>0</td>\n",
              "      <td>0</td>\n",
              "      <td>0</td>\n",
              "      <td>0</td>\n",
              "    </tr>\n",
              "  </tbody>\n",
              "</table>\n",
              "</div>"
            ],
            "text/plain": [
              "  category  bark  meow  paw  purr  tail  whiskers  woof\n",
              "0      cat     0     0    1     1     2         1     0\n",
              "1      cat     0     1    0     0     0         2     0\n",
              "2      cat     0     2    1     1     0         0     0\n",
              "3      dog     2     0    1     0     0         0     1\n",
              "4      dog     2     0    2     0     0         0     0"
            ]
          },
          "metadata": {},
          "execution_count": 7
        }
      ]
    },
    {
      "cell_type": "markdown",
      "metadata": {
        "id": "DgBjtdIz1PQw"
      },
      "source": [
        "## Bernoulli: all features are 0 or 1"
      ]
    },
    {
      "cell_type": "code",
      "metadata": {
        "colab": {
          "base_uri": "https://localhost:8080/",
          "height": 204
        },
        "id": "JuWNa_Yn02gJ",
        "outputId": "1bd40edf-3cee-45f6-e471-d369b72bec16"
      },
      "source": [
        "# Let's make it so for each feature, it is 1 if the word is there, and 0 if not\n",
        "\n",
        "X_bernoulli = X_train.copy()\n",
        "\n",
        "for feature in X_train.columns:\n",
        "    X_bernoulli[feature] = np.where(X_bernoulli[feature] >= 1, 1, 0)\n",
        "X_bernoulli.head()"
      ],
      "execution_count": null,
      "outputs": [
        {
          "output_type": "execute_result",
          "data": {
            "text/html": [
              "<div>\n",
              "<style scoped>\n",
              "    .dataframe tbody tr th:only-of-type {\n",
              "        vertical-align: middle;\n",
              "    }\n",
              "\n",
              "    .dataframe tbody tr th {\n",
              "        vertical-align: top;\n",
              "    }\n",
              "\n",
              "    .dataframe thead th {\n",
              "        text-align: right;\n",
              "    }\n",
              "</style>\n",
              "<table border=\"1\" class=\"dataframe\">\n",
              "  <thead>\n",
              "    <tr style=\"text-align: right;\">\n",
              "      <th></th>\n",
              "      <th>bark</th>\n",
              "      <th>meow</th>\n",
              "      <th>paw</th>\n",
              "      <th>purr</th>\n",
              "      <th>tail</th>\n",
              "      <th>whiskers</th>\n",
              "      <th>woof</th>\n",
              "    </tr>\n",
              "  </thead>\n",
              "  <tbody>\n",
              "    <tr>\n",
              "      <th>0</th>\n",
              "      <td>0</td>\n",
              "      <td>0</td>\n",
              "      <td>1</td>\n",
              "      <td>1</td>\n",
              "      <td>1</td>\n",
              "      <td>1</td>\n",
              "      <td>0</td>\n",
              "    </tr>\n",
              "    <tr>\n",
              "      <th>1</th>\n",
              "      <td>0</td>\n",
              "      <td>1</td>\n",
              "      <td>0</td>\n",
              "      <td>0</td>\n",
              "      <td>0</td>\n",
              "      <td>1</td>\n",
              "      <td>0</td>\n",
              "    </tr>\n",
              "    <tr>\n",
              "      <th>2</th>\n",
              "      <td>0</td>\n",
              "      <td>1</td>\n",
              "      <td>1</td>\n",
              "      <td>1</td>\n",
              "      <td>0</td>\n",
              "      <td>0</td>\n",
              "      <td>0</td>\n",
              "    </tr>\n",
              "    <tr>\n",
              "      <th>3</th>\n",
              "      <td>1</td>\n",
              "      <td>0</td>\n",
              "      <td>1</td>\n",
              "      <td>0</td>\n",
              "      <td>0</td>\n",
              "      <td>0</td>\n",
              "      <td>1</td>\n",
              "    </tr>\n",
              "    <tr>\n",
              "      <th>4</th>\n",
              "      <td>1</td>\n",
              "      <td>0</td>\n",
              "      <td>1</td>\n",
              "      <td>0</td>\n",
              "      <td>0</td>\n",
              "      <td>0</td>\n",
              "      <td>0</td>\n",
              "    </tr>\n",
              "  </tbody>\n",
              "</table>\n",
              "</div>"
            ],
            "text/plain": [
              "   bark  meow  paw  purr  tail  whiskers  woof\n",
              "0     0     0    1     1     1         1     0\n",
              "1     0     1    0     0     0         1     0\n",
              "2     0     1    1     1     0         0     0\n",
              "3     1     0    1     0     0         0     1\n",
              "4     1     0    1     0     0         0     0"
            ]
          },
          "metadata": {},
          "execution_count": 8
        }
      ]
    },
    {
      "cell_type": "code",
      "metadata": {
        "colab": {
          "base_uri": "https://localhost:8080/"
        },
        "id": "Kek31rCOKwPY",
        "outputId": "819656ed-405b-4bc3-aee5-b4ed6b36e38e"
      },
      "source": [
        "# Test set\n",
        "\n",
        "test_docs = np.array([\n",
        "  'whiskers bark paw paw paw',\n",
        "  'purr hello'\n",
        "])\n",
        "\n",
        "X_test = count.transform(test_docs).toarray()\n",
        "\n",
        "print(f'features: {count.get_feature_names()}')\n",
        "print(f'X_test before Bernoulli:\\n{X_test}')\n",
        "\n",
        "X_test = np.where(X_test > 0.5, 1, 0)\n",
        "\n",
        "print(f'X_test after Bernoulli:\\n{X_test}')"
      ],
      "execution_count": null,
      "outputs": [
        {
          "output_type": "stream",
          "name": "stdout",
          "text": [
            "features: ['bark', 'meow', 'paw', 'purr', 'tail', 'whiskers', 'woof']\n",
            "X_test before Bernoulli:\n",
            "[[1 0 3 0 0 1 0]\n",
            " [0 0 0 1 0 0 0]]\n",
            "X_test after Bernoulli:\n",
            "[[1 0 1 0 0 1 0]\n",
            " [0 0 0 1 0 0 0]]\n"
          ]
        }
      ]
    },
    {
      "cell_type": "code",
      "metadata": {
        "colab": {
          "base_uri": "https://localhost:8080/"
        },
        "id": "JbbygkfR5tv7",
        "outputId": "9f4721a1-0fee-4085-c3a4-356c71b43115"
      },
      "source": [
        "# Sklearn Bernoulli Naive Bayes\n",
        "\n",
        "bnb = BernoulliNB()\n",
        "bnb.fit(X_bernoulli, y_train)\n",
        "\n",
        "print(f'Test set predictions: {bnb.predict(X_test)}')"
      ],
      "execution_count": null,
      "outputs": [
        {
          "output_type": "stream",
          "name": "stdout",
          "text": [
            "Test set predictions: ['dog' 'cat']\n"
          ]
        }
      ]
    },
    {
      "cell_type": "code",
      "metadata": {
        "colab": {
          "base_uri": "https://localhost:8080/"
        },
        "id": "1w30FcFN8SCY",
        "outputId": "1cb39bc2-1ee2-4707-b2da-04c882261b6f"
      },
      "source": [
        "# Explore priors\n",
        "\n",
        "print(f'Sklearn\\'s priors: {np.exp(bnb.class_log_prior_)}')"
      ],
      "execution_count": null,
      "outputs": [
        {
          "output_type": "stream",
          "name": "stdout",
          "text": [
            "Sklearn's priors: [0.6 0.4]\n"
          ]
        }
      ]
    },
    {
      "cell_type": "code",
      "metadata": {
        "colab": {
          "base_uri": "https://localhost:8080/"
        },
        "id": "oo_AXA4C-Ozi",
        "outputId": "1dcaaa70-a5e5-4b89-bf4f-e3d7a119f4ad"
      },
      "source": [
        "count_y = len(train_df)\n",
        "count_y_train_dog = len(train_df[train_df.category=='dog'])\n",
        "count_y_train_cat = len(train_df[train_df.category=='cat'])\n",
        "\n",
        "print(f'Our P(class=dog)=', count_y_train_dog/count_y)\n",
        "print(f'Our P(class=cat)=', count_y_train_cat/count_y)"
      ],
      "execution_count": null,
      "outputs": [
        {
          "output_type": "stream",
          "name": "stdout",
          "text": [
            "Our P(class=dog)= 0.4\n",
            "Our P(class=cat)= 0.6\n"
          ]
        }
      ]
    },
    {
      "cell_type": "code",
      "metadata": {
        "colab": {
          "base_uri": "https://localhost:8080/"
        },
        "id": "xSvdlubp9CA7",
        "outputId": "830703ed-ebdf-4760-e208-ca2c999ff6c4"
      },
      "source": [
        "# Explore conditional probabilities\n",
        "\n",
        "print(f'Sklearn\\'s conditional probabilities:\\n{np.exp(bnb.feature_log_prob_)}')\n",
        "print()\n",
        "print(f'features: {count.get_feature_names()}')"
      ],
      "execution_count": null,
      "outputs": [
        {
          "output_type": "stream",
          "name": "stdout",
          "text": [
            "Sklearn's conditional probabilities:\n",
            "[[0.2  0.6  0.6  0.6  0.4  0.6  0.2 ]\n",
            " [0.75 0.25 0.75 0.25 0.25 0.25 0.5 ]]\n",
            "\n",
            "features: ['bark', 'meow', 'paw', 'purr', 'tail', 'whiskers', 'woof']\n"
          ]
        }
      ]
    },
    {
      "cell_type": "code",
      "metadata": {
        "colab": {
          "base_uri": "https://localhost:8080/",
          "height": 128
        },
        "id": "WvudWGN7-Uv6",
        "outputId": "9dfc44b3-a0ab-437b-9ea6-a5c312084645"
      },
      "source": [
        "count_1 = pd.DataFrame({\n",
        "    feature: {\n",
        "      category: np.sum(X_bernoulli[train_df['category']==category][feature])\n",
        "      for category in ['dog', 'cat']\n",
        "    }\n",
        "    for feature in count.get_feature_names()\n",
        "})\n",
        "\n",
        "count_1\n",
        "\n",
        "count_1.loc['dog'] = count_1.loc['dog']/count_y_train_dog\n",
        "count_1.loc['cat'] = count_1.loc['cat']/count_y_train_cat\n",
        "\n",
        "print('Our conditional probabilities:')\n",
        "count_1.head()"
      ],
      "execution_count": null,
      "outputs": [
        {
          "output_type": "stream",
          "name": "stdout",
          "text": [
            "Our conditional probabilities:\n"
          ]
        },
        {
          "output_type": "execute_result",
          "data": {
            "text/html": [
              "<div>\n",
              "<style scoped>\n",
              "    .dataframe tbody tr th:only-of-type {\n",
              "        vertical-align: middle;\n",
              "    }\n",
              "\n",
              "    .dataframe tbody tr th {\n",
              "        vertical-align: top;\n",
              "    }\n",
              "\n",
              "    .dataframe thead th {\n",
              "        text-align: right;\n",
              "    }\n",
              "</style>\n",
              "<table border=\"1\" class=\"dataframe\">\n",
              "  <thead>\n",
              "    <tr style=\"text-align: right;\">\n",
              "      <th></th>\n",
              "      <th>bark</th>\n",
              "      <th>meow</th>\n",
              "      <th>paw</th>\n",
              "      <th>purr</th>\n",
              "      <th>tail</th>\n",
              "      <th>whiskers</th>\n",
              "      <th>woof</th>\n",
              "    </tr>\n",
              "  </thead>\n",
              "  <tbody>\n",
              "    <tr>\n",
              "      <th>dog</th>\n",
              "      <td>1.0</td>\n",
              "      <td>0.000000</td>\n",
              "      <td>1.000000</td>\n",
              "      <td>0.000000</td>\n",
              "      <td>0.000000</td>\n",
              "      <td>0.000000</td>\n",
              "      <td>0.5</td>\n",
              "    </tr>\n",
              "    <tr>\n",
              "      <th>cat</th>\n",
              "      <td>0.0</td>\n",
              "      <td>0.666667</td>\n",
              "      <td>0.666667</td>\n",
              "      <td>0.666667</td>\n",
              "      <td>0.333333</td>\n",
              "      <td>0.666667</td>\n",
              "      <td>0.0</td>\n",
              "    </tr>\n",
              "  </tbody>\n",
              "</table>\n",
              "</div>"
            ],
            "text/plain": [
              "     bark      meow       paw      purr      tail  whiskers  woof\n",
              "dog   1.0  0.000000  1.000000  0.000000  0.000000  0.000000   0.5\n",
              "cat   0.0  0.666667  0.666667  0.666667  0.333333  0.666667   0.0"
            ]
          },
          "metadata": {},
          "execution_count": 14
        }
      ]
    },
    {
      "cell_type": "markdown",
      "metadata": {
        "id": "MyYU0DoiU2kd"
      },
      "source": [
        "## Multinomial: discrete features (word counts)"
      ]
    },
    {
      "cell_type": "code",
      "metadata": {
        "colab": {
          "base_uri": "https://localhost:8080/",
          "height": 204
        },
        "id": "DgUcFZRiSMJ7",
        "outputId": "2b067a7c-ac06-4b44-86c7-435ece659ea1"
      },
      "source": [
        "# Features are just word counts\n",
        "\n",
        "X_multinomial = X_train.copy()\n",
        "X_multinomial"
      ],
      "execution_count": null,
      "outputs": [
        {
          "output_type": "execute_result",
          "data": {
            "text/html": [
              "<div>\n",
              "<style scoped>\n",
              "    .dataframe tbody tr th:only-of-type {\n",
              "        vertical-align: middle;\n",
              "    }\n",
              "\n",
              "    .dataframe tbody tr th {\n",
              "        vertical-align: top;\n",
              "    }\n",
              "\n",
              "    .dataframe thead th {\n",
              "        text-align: right;\n",
              "    }\n",
              "</style>\n",
              "<table border=\"1\" class=\"dataframe\">\n",
              "  <thead>\n",
              "    <tr style=\"text-align: right;\">\n",
              "      <th></th>\n",
              "      <th>bark</th>\n",
              "      <th>meow</th>\n",
              "      <th>paw</th>\n",
              "      <th>purr</th>\n",
              "      <th>tail</th>\n",
              "      <th>whiskers</th>\n",
              "      <th>woof</th>\n",
              "    </tr>\n",
              "  </thead>\n",
              "  <tbody>\n",
              "    <tr>\n",
              "      <th>0</th>\n",
              "      <td>0</td>\n",
              "      <td>0</td>\n",
              "      <td>1</td>\n",
              "      <td>1</td>\n",
              "      <td>2</td>\n",
              "      <td>1</td>\n",
              "      <td>0</td>\n",
              "    </tr>\n",
              "    <tr>\n",
              "      <th>1</th>\n",
              "      <td>0</td>\n",
              "      <td>1</td>\n",
              "      <td>0</td>\n",
              "      <td>0</td>\n",
              "      <td>0</td>\n",
              "      <td>2</td>\n",
              "      <td>0</td>\n",
              "    </tr>\n",
              "    <tr>\n",
              "      <th>2</th>\n",
              "      <td>0</td>\n",
              "      <td>2</td>\n",
              "      <td>1</td>\n",
              "      <td>1</td>\n",
              "      <td>0</td>\n",
              "      <td>0</td>\n",
              "      <td>0</td>\n",
              "    </tr>\n",
              "    <tr>\n",
              "      <th>3</th>\n",
              "      <td>2</td>\n",
              "      <td>0</td>\n",
              "      <td>1</td>\n",
              "      <td>0</td>\n",
              "      <td>0</td>\n",
              "      <td>0</td>\n",
              "      <td>1</td>\n",
              "    </tr>\n",
              "    <tr>\n",
              "      <th>4</th>\n",
              "      <td>2</td>\n",
              "      <td>0</td>\n",
              "      <td>2</td>\n",
              "      <td>0</td>\n",
              "      <td>0</td>\n",
              "      <td>0</td>\n",
              "      <td>0</td>\n",
              "    </tr>\n",
              "  </tbody>\n",
              "</table>\n",
              "</div>"
            ],
            "text/plain": [
              "   bark  meow  paw  purr  tail  whiskers  woof\n",
              "0     0     0    1     1     2         1     0\n",
              "1     0     1    0     0     0         2     0\n",
              "2     0     2    1     1     0         0     0\n",
              "3     2     0    1     0     0         0     1\n",
              "4     2     0    2     0     0         0     0"
            ]
          },
          "metadata": {},
          "execution_count": 15
        }
      ]
    },
    {
      "cell_type": "code",
      "metadata": {
        "colab": {
          "base_uri": "https://localhost:8080/"
        },
        "id": "FzPae6TCXwaA",
        "outputId": "a4222008-05e5-4402-fac2-9ee70d9484dc"
      },
      "source": [
        "# Test set\n",
        "\n",
        "test_docs = np.array([\n",
        "  'whiskers bark paw paw paw',\n",
        "  'purr hello'\n",
        "])\n",
        "\n",
        "X_test = count.transform(test_docs).toarray()\n",
        "\n",
        "print(f'features: {count.get_feature_names()}')\n",
        "print(f'X_test:\\n{X_test}')"
      ],
      "execution_count": null,
      "outputs": [
        {
          "output_type": "stream",
          "name": "stdout",
          "text": [
            "features: ['bark', 'meow', 'paw', 'purr', 'tail', 'whiskers', 'woof']\n",
            "X_test:\n",
            "[[1 0 3 0 0 1 0]\n",
            " [0 0 0 1 0 0 0]]\n"
          ]
        }
      ]
    },
    {
      "cell_type": "code",
      "metadata": {
        "colab": {
          "base_uri": "https://localhost:8080/"
        },
        "id": "go4e6cSdX4PQ",
        "outputId": "2ac9ed0b-437c-4df1-c791-be08ed6a3a2d"
      },
      "source": [
        "# Sklearn Multinomial Naive Bayes\n",
        "\n",
        "mnb = MultinomialNB()  # default alpha is 1.0\n",
        "mnb.fit(X_multinomial, y_train)\n",
        "\n",
        "print(f'Test set predictions: {mnb.predict(X_test)}')"
      ],
      "execution_count": null,
      "outputs": [
        {
          "output_type": "stream",
          "name": "stdout",
          "text": [
            "Test set predictions: ['dog' 'cat']\n"
          ]
        }
      ]
    },
    {
      "cell_type": "code",
      "metadata": {
        "colab": {
          "base_uri": "https://localhost:8080/"
        },
        "id": "-qSAvBCgYN9x",
        "outputId": "e5df4f6a-1528-4cbe-e72d-d25b59970703"
      },
      "source": [
        "# Explore priors\n",
        "\n",
        "print(f'Sklearn\\'s priors: {np.exp(mnb.class_log_prior_)}')"
      ],
      "execution_count": null,
      "outputs": [
        {
          "output_type": "stream",
          "name": "stdout",
          "text": [
            "Sklearn's priors: [0.6 0.4]\n"
          ]
        }
      ]
    },
    {
      "cell_type": "code",
      "metadata": {
        "colab": {
          "base_uri": "https://localhost:8080/"
        },
        "id": "eDWanYMLYTDj",
        "outputId": "dc07dfc1-1366-45c6-f364-646f30973559"
      },
      "source": [
        "count_y = len(train_df)\n",
        "count_y_train_dog = len(train_df[train_df.category=='dog'])\n",
        "count_y_train_cat = len(train_df[train_df.category=='cat'])\n",
        "\n",
        "print(f'Our P(class=dog)=', count_y_train_dog/count_y)\n",
        "print(f'Our P(class=cat)=', count_y_train_cat/count_y)"
      ],
      "execution_count": null,
      "outputs": [
        {
          "output_type": "stream",
          "name": "stdout",
          "text": [
            "Our P(class=dog)= 0.4\n",
            "Our P(class=cat)= 0.6\n"
          ]
        }
      ]
    },
    {
      "cell_type": "code",
      "metadata": {
        "colab": {
          "base_uri": "https://localhost:8080/"
        },
        "id": "pvLCKol3YYdG",
        "outputId": "417e4f4d-2452-4c64-a70d-7e290f8db36b"
      },
      "source": [
        "# Explore conditional probabilities\n",
        "\n",
        "print(f'Sklearn\\'s conditional probabilities:\\n{np.exp(mnb.feature_log_prob_)}')\n",
        "print()\n",
        "print(f'features: {count.get_feature_names()}')"
      ],
      "execution_count": null,
      "outputs": [
        {
          "output_type": "stream",
          "name": "stdout",
          "text": [
            "Sklearn's conditional probabilities:\n",
            "[[0.05263158 0.21052632 0.15789474 0.15789474 0.15789474 0.21052632\n",
            "  0.05263158]\n",
            " [0.33333333 0.06666667 0.26666667 0.06666667 0.06666667 0.06666667\n",
            "  0.13333333]]\n",
            "\n",
            "features: ['bark', 'meow', 'paw', 'purr', 'tail', 'whiskers', 'woof']\n"
          ]
        }
      ]
    },
    {
      "cell_type": "code",
      "metadata": {
        "colab": {
          "base_uri": "https://localhost:8080/",
          "height": 128
        },
        "id": "icy8q7VHYgIw",
        "outputId": "0911086b-b927-48ff-e2c9-aa3a2d49c91a"
      },
      "source": [
        "count_m = pd.DataFrame({\n",
        "    feature: {\n",
        "      category: np.sum(X_multinomial[train_df['category']==category][feature])\n",
        "      for category in ['dog', 'cat']\n",
        "    }\n",
        "    for feature in count.get_feature_names()\n",
        "})\n",
        "\n",
        "count_m\n",
        "\n",
        "# note the new denominators here!\n",
        "count_words_train_dog = np.sum(count_m.loc['dog']) + 7\n",
        "count_words_train_cat = np.sum(count_m.loc['cat']) + 7\n",
        "\n",
        "count_m.loc['dog'] = (count_m.loc['dog'] +1)/count_words_train_dog\n",
        "count_m.loc['cat'] = (count_m.loc['cat'] +1)/count_words_train_cat\n",
        "\n",
        "print('Our conditional probabilities:')\n",
        "count_m.head()"
      ],
      "execution_count": null,
      "outputs": [
        {
          "output_type": "stream",
          "name": "stdout",
          "text": [
            "Our conditional probabilities:\n"
          ]
        },
        {
          "output_type": "execute_result",
          "data": {
            "text/html": [
              "<div>\n",
              "<style scoped>\n",
              "    .dataframe tbody tr th:only-of-type {\n",
              "        vertical-align: middle;\n",
              "    }\n",
              "\n",
              "    .dataframe tbody tr th {\n",
              "        vertical-align: top;\n",
              "    }\n",
              "\n",
              "    .dataframe thead th {\n",
              "        text-align: right;\n",
              "    }\n",
              "</style>\n",
              "<table border=\"1\" class=\"dataframe\">\n",
              "  <thead>\n",
              "    <tr style=\"text-align: right;\">\n",
              "      <th></th>\n",
              "      <th>bark</th>\n",
              "      <th>meow</th>\n",
              "      <th>paw</th>\n",
              "      <th>purr</th>\n",
              "      <th>tail</th>\n",
              "      <th>whiskers</th>\n",
              "      <th>woof</th>\n",
              "    </tr>\n",
              "  </thead>\n",
              "  <tbody>\n",
              "    <tr>\n",
              "      <th>dog</th>\n",
              "      <td>0.333333</td>\n",
              "      <td>0.066667</td>\n",
              "      <td>0.266667</td>\n",
              "      <td>0.066667</td>\n",
              "      <td>0.066667</td>\n",
              "      <td>0.066667</td>\n",
              "      <td>0.133333</td>\n",
              "    </tr>\n",
              "    <tr>\n",
              "      <th>cat</th>\n",
              "      <td>0.052632</td>\n",
              "      <td>0.210526</td>\n",
              "      <td>0.157895</td>\n",
              "      <td>0.157895</td>\n",
              "      <td>0.157895</td>\n",
              "      <td>0.210526</td>\n",
              "      <td>0.052632</td>\n",
              "    </tr>\n",
              "  </tbody>\n",
              "</table>\n",
              "</div>"
            ],
            "text/plain": [
              "         bark      meow       paw      purr      tail  whiskers      woof\n",
              "dog  0.333333  0.066667  0.266667  0.066667  0.066667  0.066667  0.133333\n",
              "cat  0.052632  0.210526  0.157895  0.157895  0.157895  0.210526  0.052632"
            ]
          },
          "metadata": {},
          "execution_count": 21
        }
      ]
    },
    {
      "cell_type": "markdown",
      "metadata": {
        "id": "USDB2zsvinjd"
      },
      "source": [
        "Exercise: add smoothing with alpha to our computed conditional probabilities in Multinomial Naive Bayes so they match the conditional probabilites output by Sklearn!"
      ]
    },
    {
      "cell_type": "markdown",
      "metadata": {
        "id": "8S52STa9Zbrq"
      },
      "source": [
        "## Naive Bayes to generate documents"
      ]
    },
    {
      "cell_type": "code",
      "metadata": {
        "colab": {
          "base_uri": "https://localhost:8080/"
        },
        "id": "r1aGOXUnY9Cs",
        "outputId": "929988a4-4771-426a-e8bb-76860c39aa55"
      },
      "source": [
        "# Generate cat document using Bernoulli Naive Bayes\n",
        "\n",
        "doc = ''\n",
        "for idx, word in enumerate(count.get_feature_names()):\n",
        "  if np.random.uniform() < count_1.loc['cat'][word]:\n",
        "    doc += word + ' '\n",
        "\n",
        "print(doc.strip())"
      ],
      "execution_count": null,
      "outputs": [
        {
          "output_type": "stream",
          "name": "stdout",
          "text": [
            "purr whiskers\n"
          ]
        }
      ]
    },
    {
      "cell_type": "markdown",
      "metadata": {
        "id": "rU824L29mq4r"
      },
      "source": [
        "## Gaussian Naive Bayes: continuous features\n",
        "\n",
        "Exercise: calculate the mean and variance of each feature in each class to fit a Gaussian distribution!\n",
        "\n",
        "Next exercise: use the Gaussian distributions to classify the test documents above!"
      ]
    },
    {
      "cell_type": "code",
      "metadata": {
        "id": "Z5EShihwqsVj"
      },
      "source": [
        ""
      ],
      "execution_count": null,
      "outputs": []
    }
  ]
}
