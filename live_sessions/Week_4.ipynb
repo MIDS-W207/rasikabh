{
  "nbformat": 4,
  "nbformat_minor": 0,
  "metadata": {
    "colab": {
      "provenance": []
    },
    "kernelspec": {
      "name": "python3",
      "display_name": "Python 3"
    },
    "language_info": {
      "name": "python"
    }
  },
  "cells": [
    {
      "cell_type": "markdown",
      "source": [
        "# Week 4: Logistic Regression\n",
        "\n",
        "## Agenda\n",
        "- Logistic regression and ROC curves\n",
        "- [Social bias in logistic regression](https://developers.perspectiveapi.com/s/about-the-api-model-cards?tabset-20254=3)"
      ],
      "metadata": {
        "id": "bgrK3f9TAGpS"
      }
    },
    {
      "cell_type": "code",
      "source": [
        "from sklearn.datasets import fetch_openml\n",
        "from sklearn.linear_model import LogisticRegression\n",
        "from sklearn.model_selection import train_test_split\n",
        "from sklearn.metrics import plot_roc_curve\n",
        "\n",
        "# This tells matplotlib not to try opening a new window for each plot.\n",
        "%matplotlib inline"
      ],
      "metadata": {
        "id": "ZiZjrS5CAoAJ"
      },
      "execution_count": 4,
      "outputs": []
    },
    {
      "cell_type": "code",
      "execution_count": 3,
      "metadata": {
        "colab": {
          "base_uri": "https://localhost:8080/"
        },
        "id": "zAsQa3WlADAO",
        "outputId": "a7ddc4b0-6625-46ea-f59a-ce9951eb9304"
      },
      "outputs": [
        {
          "output_type": "execute_result",
          "data": {
            "text/plain": [
              "0.9423076923076923"
            ]
          },
          "metadata": {},
          "execution_count": 3
        }
      ],
      "source": [
        "# Load the digits dataset from https://www.openml.org/d/554\n",
        "# use only 4s and 9s\n",
        "X, Y = fetch_openml(name='mnist_784', return_X_y=True, cache=False)\n",
        "X, Y = X[:1000], Y[:1000]\n",
        "X = X / 255.0\n",
        "indices = [i == '4' or i == '9' for i in Y]\n",
        "features = X[indices]\n",
        "targets = Y[indices]\n",
        "\n",
        "# regression\n",
        "x_train, x_test, y_train, y_test = train_test_split(features, targets, test_size=0.25)\n",
        "lr_model = LogisticRegression()\n",
        "lr_model.fit(x_train, y_train)\n",
        "\n",
        "lr_model.score(x_test, y_test)\n"
      ]
    },
    {
      "cell_type": "code",
      "source": [
        "# The default threshold for classification is 0.5\n",
        "# What if false positives are much worse than false negatives (or vice versa)?\n",
        "\n",
        "plot_roc_curve(lr_model, x_test, y_test)"
      ],
      "metadata": {
        "colab": {
          "base_uri": "https://localhost:8080/",
          "height": 353
        },
        "id": "0Zo9JAVkAiTt",
        "outputId": "5a8f3275-4934-433f-bc20-4246a8261b26"
      },
      "execution_count": 5,
      "outputs": [
        {
          "output_type": "stream",
          "name": "stderr",
          "text": [
            "/usr/local/lib/python3.7/dist-packages/sklearn/utils/deprecation.py:87: FutureWarning: Function plot_roc_curve is deprecated; Function :func:`plot_roc_curve` is deprecated in 1.0 and will be removed in 1.2. Use one of the class methods: :meth:`sklearn.metric.RocCurveDisplay.from_predictions` or :meth:`sklearn.metric.RocCurveDisplay.from_estimator`.\n",
            "  warnings.warn(msg, category=FutureWarning)\n"
          ]
        },
        {
          "output_type": "execute_result",
          "data": {
            "text/plain": [
              "<sklearn.metrics._plot.roc_curve.RocCurveDisplay at 0x7f37643be050>"
            ]
          },
          "metadata": {},
          "execution_count": 5
        },
        {
          "output_type": "display_data",
          "data": {
            "text/plain": [
              "<Figure size 432x288 with 1 Axes>"
            ],
            "image/png": "[encoded data removed]"
          },
          "metadata": {
            "needs_background": "light"
          }
        }
      ]
    },
    {
      "cell_type": "code",
      "source": [],
      "metadata": {
        "id": "9u-hGihMBAC7"
      },
      "execution_count": null,
      "outputs": []
    }
  ]
}